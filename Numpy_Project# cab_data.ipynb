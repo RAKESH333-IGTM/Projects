{
 "cells": [
  {
   "cell_type": "code",
   "execution_count": 15,
   "id": "a4a34643-7ae0-4707-924f-285ba66676ab",
   "metadata": {},
   "outputs": [],
   "source": [
    "import numpy as np"
   ]
  },
  {
   "cell_type": "code",
   "execution_count": 16,
   "id": "815ccaa5-ecc4-44d9-97db-27deaa984c01",
   "metadata": {},
   "outputs": [],
   "source": [
    "import warnings\n",
    "warnings.filterwarnings('ignore')"
   ]
  },
  {
   "cell_type": "code",
   "execution_count": 27,
   "id": "fde86b25-ffbb-4764-b090-45f933f1f528",
   "metadata": {},
   "outputs": [
    {
     "data": {
      "text/plain": [
       "array([[2016,    1,    1, ...,   11,   69,    1],\n",
       "       [2016,    1,    1, ...,    8,   54,    1],\n",
       "       [2016,    1,    1, ...,    0,   37,    2],\n",
       "       ...,\n",
       "       [2016,    6,   30, ...,    5,   63,    1],\n",
       "       [2016,    6,   30, ...,    8,   44,    1],\n",
       "       [2016,    6,   30, ...,    0,   54,    2]])"
      ]
     },
     "execution_count": 27,
     "metadata": {},
     "output_type": "execute_result"
    }
   ],
   "source": [
    "cab_data =np.genfromtxt(r\"C:\\Users\\rakes\\Downloads\\nyc_taxis.csv\",delimiter = ',',skip_header = True, dtype = int)\n",
    "cab_data.shape\n",
    "cab_data.ndim\n",
    "cab_data"
   ]
  },
  {
   "cell_type": "code",
   "execution_count": 3,
   "id": "b6313941-125d-4868-89f6-e1a1df5c15fe",
   "metadata": {},
   "outputs": [
    {
     "data": {
      "text/html": [
       "<div>\n",
       "<style scoped>\n",
       "    .dataframe tbody tr th:only-of-type {\n",
       "        vertical-align: middle;\n",
       "    }\n",
       "\n",
       "    .dataframe tbody tr th {\n",
       "        vertical-align: top;\n",
       "    }\n",
       "\n",
       "    .dataframe thead th {\n",
       "        text-align: right;\n",
       "    }\n",
       "</style>\n",
       "<table border=\"1\" class=\"dataframe\">\n",
       "  <thead>\n",
       "    <tr style=\"text-align: right;\">\n",
       "      <th></th>\n",
       "      <th>pickup_year</th>\n",
       "      <th>pickup_month</th>\n",
       "      <th>pickup_day</th>\n",
       "      <th>pickup_dayofweek</th>\n",
       "      <th>pickup_time</th>\n",
       "      <th>pickup_location_code</th>\n",
       "      <th>dropoff_location_code</th>\n",
       "      <th>trip_distance</th>\n",
       "      <th>trip_length</th>\n",
       "      <th>fare_amount</th>\n",
       "      <th>fees_amount</th>\n",
       "      <th>tolls_amount</th>\n",
       "      <th>tip_amount</th>\n",
       "      <th>total_amount</th>\n",
       "      <th>payment_type</th>\n",
       "    </tr>\n",
       "  </thead>\n",
       "  <tbody>\n",
       "    <tr>\n",
       "      <th>0</th>\n",
       "      <td>2016</td>\n",
       "      <td>1</td>\n",
       "      <td>1</td>\n",
       "      <td>5</td>\n",
       "      <td>0</td>\n",
       "      <td>2</td>\n",
       "      <td>4</td>\n",
       "      <td>21.00</td>\n",
       "      <td>2037</td>\n",
       "      <td>52.0</td>\n",
       "      <td>0.8</td>\n",
       "      <td>5.54</td>\n",
       "      <td>11.65</td>\n",
       "      <td>69.99</td>\n",
       "      <td>1</td>\n",
       "    </tr>\n",
       "    <tr>\n",
       "      <th>1</th>\n",
       "      <td>2016</td>\n",
       "      <td>1</td>\n",
       "      <td>1</td>\n",
       "      <td>5</td>\n",
       "      <td>0</td>\n",
       "      <td>2</td>\n",
       "      <td>1</td>\n",
       "      <td>16.29</td>\n",
       "      <td>1520</td>\n",
       "      <td>45.0</td>\n",
       "      <td>1.3</td>\n",
       "      <td>0.00</td>\n",
       "      <td>8.00</td>\n",
       "      <td>54.30</td>\n",
       "      <td>1</td>\n",
       "    </tr>\n",
       "    <tr>\n",
       "      <th>2</th>\n",
       "      <td>2016</td>\n",
       "      <td>1</td>\n",
       "      <td>1</td>\n",
       "      <td>5</td>\n",
       "      <td>0</td>\n",
       "      <td>2</td>\n",
       "      <td>6</td>\n",
       "      <td>12.70</td>\n",
       "      <td>1462</td>\n",
       "      <td>36.5</td>\n",
       "      <td>1.3</td>\n",
       "      <td>0.00</td>\n",
       "      <td>0.00</td>\n",
       "      <td>37.80</td>\n",
       "      <td>2</td>\n",
       "    </tr>\n",
       "    <tr>\n",
       "      <th>3</th>\n",
       "      <td>2016</td>\n",
       "      <td>1</td>\n",
       "      <td>1</td>\n",
       "      <td>5</td>\n",
       "      <td>0</td>\n",
       "      <td>2</td>\n",
       "      <td>6</td>\n",
       "      <td>8.70</td>\n",
       "      <td>1210</td>\n",
       "      <td>26.0</td>\n",
       "      <td>1.3</td>\n",
       "      <td>0.00</td>\n",
       "      <td>5.46</td>\n",
       "      <td>32.76</td>\n",
       "      <td>1</td>\n",
       "    </tr>\n",
       "    <tr>\n",
       "      <th>4</th>\n",
       "      <td>2016</td>\n",
       "      <td>1</td>\n",
       "      <td>1</td>\n",
       "      <td>5</td>\n",
       "      <td>0</td>\n",
       "      <td>2</td>\n",
       "      <td>6</td>\n",
       "      <td>5.56</td>\n",
       "      <td>759</td>\n",
       "      <td>17.5</td>\n",
       "      <td>1.3</td>\n",
       "      <td>0.00</td>\n",
       "      <td>0.00</td>\n",
       "      <td>18.80</td>\n",
       "      <td>2</td>\n",
       "    </tr>\n",
       "    <tr>\n",
       "      <th>...</th>\n",
       "      <td>...</td>\n",
       "      <td>...</td>\n",
       "      <td>...</td>\n",
       "      <td>...</td>\n",
       "      <td>...</td>\n",
       "      <td>...</td>\n",
       "      <td>...</td>\n",
       "      <td>...</td>\n",
       "      <td>...</td>\n",
       "      <td>...</td>\n",
       "      <td>...</td>\n",
       "      <td>...</td>\n",
       "      <td>...</td>\n",
       "      <td>...</td>\n",
       "      <td>...</td>\n",
       "    </tr>\n",
       "    <tr>\n",
       "      <th>89555</th>\n",
       "      <td>2016</td>\n",
       "      <td>6</td>\n",
       "      <td>30</td>\n",
       "      <td>4</td>\n",
       "      <td>5</td>\n",
       "      <td>3</td>\n",
       "      <td>4</td>\n",
       "      <td>9.50</td>\n",
       "      <td>1989</td>\n",
       "      <td>31.0</td>\n",
       "      <td>1.3</td>\n",
       "      <td>5.54</td>\n",
       "      <td>3.00</td>\n",
       "      <td>40.84</td>\n",
       "      <td>1</td>\n",
       "    </tr>\n",
       "    <tr>\n",
       "      <th>89556</th>\n",
       "      <td>2016</td>\n",
       "      <td>6</td>\n",
       "      <td>30</td>\n",
       "      <td>4</td>\n",
       "      <td>5</td>\n",
       "      <td>2</td>\n",
       "      <td>4</td>\n",
       "      <td>19.80</td>\n",
       "      <td>2368</td>\n",
       "      <td>52.0</td>\n",
       "      <td>0.8</td>\n",
       "      <td>5.54</td>\n",
       "      <td>0.00</td>\n",
       "      <td>58.34</td>\n",
       "      <td>1</td>\n",
       "    </tr>\n",
       "    <tr>\n",
       "      <th>89557</th>\n",
       "      <td>2016</td>\n",
       "      <td>6</td>\n",
       "      <td>30</td>\n",
       "      <td>4</td>\n",
       "      <td>5</td>\n",
       "      <td>2</td>\n",
       "      <td>4</td>\n",
       "      <td>17.48</td>\n",
       "      <td>2822</td>\n",
       "      <td>52.0</td>\n",
       "      <td>0.8</td>\n",
       "      <td>5.54</td>\n",
       "      <td>5.00</td>\n",
       "      <td>63.34</td>\n",
       "      <td>1</td>\n",
       "    </tr>\n",
       "    <tr>\n",
       "      <th>89558</th>\n",
       "      <td>2016</td>\n",
       "      <td>6</td>\n",
       "      <td>30</td>\n",
       "      <td>4</td>\n",
       "      <td>5</td>\n",
       "      <td>2</td>\n",
       "      <td>6</td>\n",
       "      <td>12.76</td>\n",
       "      <td>1083</td>\n",
       "      <td>34.5</td>\n",
       "      <td>1.3</td>\n",
       "      <td>0.00</td>\n",
       "      <td>8.95</td>\n",
       "      <td>44.75</td>\n",
       "      <td>1</td>\n",
       "    </tr>\n",
       "    <tr>\n",
       "      <th>89559</th>\n",
       "      <td>2016</td>\n",
       "      <td>6</td>\n",
       "      <td>30</td>\n",
       "      <td>4</td>\n",
       "      <td>5</td>\n",
       "      <td>2</td>\n",
       "      <td>0</td>\n",
       "      <td>17.54</td>\n",
       "      <td>1711</td>\n",
       "      <td>48.0</td>\n",
       "      <td>1.3</td>\n",
       "      <td>5.54</td>\n",
       "      <td>0.00</td>\n",
       "      <td>54.84</td>\n",
       "      <td>2</td>\n",
       "    </tr>\n",
       "  </tbody>\n",
       "</table>\n",
       "<p>89560 rows × 15 columns</p>\n",
       "</div>"
      ],
      "text/plain": [
       "       pickup_year  pickup_month  pickup_day  pickup_dayofweek  pickup_time  \\\n",
       "0             2016             1           1                 5            0   \n",
       "1             2016             1           1                 5            0   \n",
       "2             2016             1           1                 5            0   \n",
       "3             2016             1           1                 5            0   \n",
       "4             2016             1           1                 5            0   \n",
       "...            ...           ...         ...               ...          ...   \n",
       "89555         2016             6          30                 4            5   \n",
       "89556         2016             6          30                 4            5   \n",
       "89557         2016             6          30                 4            5   \n",
       "89558         2016             6          30                 4            5   \n",
       "89559         2016             6          30                 4            5   \n",
       "\n",
       "       pickup_location_code  dropoff_location_code  trip_distance  \\\n",
       "0                         2                      4          21.00   \n",
       "1                         2                      1          16.29   \n",
       "2                         2                      6          12.70   \n",
       "3                         2                      6           8.70   \n",
       "4                         2                      6           5.56   \n",
       "...                     ...                    ...            ...   \n",
       "89555                     3                      4           9.50   \n",
       "89556                     2                      4          19.80   \n",
       "89557                     2                      4          17.48   \n",
       "89558                     2                      6          12.76   \n",
       "89559                     2                      0          17.54   \n",
       "\n",
       "       trip_length  fare_amount  fees_amount  tolls_amount  tip_amount  \\\n",
       "0             2037         52.0          0.8          5.54       11.65   \n",
       "1             1520         45.0          1.3          0.00        8.00   \n",
       "2             1462         36.5          1.3          0.00        0.00   \n",
       "3             1210         26.0          1.3          0.00        5.46   \n",
       "4              759         17.5          1.3          0.00        0.00   \n",
       "...            ...          ...          ...           ...         ...   \n",
       "89555         1989         31.0          1.3          5.54        3.00   \n",
       "89556         2368         52.0          0.8          5.54        0.00   \n",
       "89557         2822         52.0          0.8          5.54        5.00   \n",
       "89558         1083         34.5          1.3          0.00        8.95   \n",
       "89559         1711         48.0          1.3          5.54        0.00   \n",
       "\n",
       "       total_amount  payment_type  \n",
       "0             69.99             1  \n",
       "1             54.30             1  \n",
       "2             37.80             2  \n",
       "3             32.76             1  \n",
       "4             18.80             2  \n",
       "...             ...           ...  \n",
       "89555         40.84             1  \n",
       "89556         58.34             1  \n",
       "89557         63.34             1  \n",
       "89558         44.75             1  \n",
       "89559         54.84             2  \n",
       "\n",
       "[89560 rows x 15 columns]"
      ]
     },
     "execution_count": 3,
     "metadata": {},
     "output_type": "execute_result"
    }
   ],
   "source": [
    "import pandas as pd\n",
    "df = pd.read_csv(r\"C:\\Users\\rakes\\Downloads\\nyc_taxis.csv\")\n",
    "df"
   ]
  },
  {
   "cell_type": "code",
   "execution_count": 117,
   "id": "484ab27c-4cc1-45f0-9537-034945fdc84e",
   "metadata": {},
   "outputs": [
    {
     "name": "stdout",
     "output_type": "stream",
     "text": [
      "<class 'pandas.core.frame.DataFrame'>\n",
      "RangeIndex: 89560 entries, 0 to 89559\n",
      "Data columns (total 15 columns):\n",
      " #   Column                 Non-Null Count  Dtype  \n",
      "---  ------                 --------------  -----  \n",
      " 0   pickup_year            89560 non-null  int64  \n",
      " 1   pickup_month           89560 non-null  int64  \n",
      " 2   pickup_day             89560 non-null  int64  \n",
      " 3   pickup_dayofweek       89560 non-null  int64  \n",
      " 4   pickup_time            89560 non-null  int64  \n",
      " 5   pickup_location_code   89560 non-null  int64  \n",
      " 6   dropoff_location_code  89560 non-null  int64  \n",
      " 7   trip_distance          89560 non-null  float64\n",
      " 8   trip_length            89560 non-null  int64  \n",
      " 9   fare_amount            89560 non-null  float64\n",
      " 10  fees_amount            89560 non-null  float64\n",
      " 11  tolls_amount           89560 non-null  float64\n",
      " 12  tip_amount             89560 non-null  float64\n",
      " 13  total_amount           89560 non-null  float64\n",
      " 14  payment_type           89560 non-null  int64  \n",
      "dtypes: float64(6), int64(9)\n",
      "memory usage: 10.2 MB\n"
     ]
    },
    {
     "data": {
      "text/plain": [
       "pickup_year              0\n",
       "pickup_month             0\n",
       "pickup_day               0\n",
       "pickup_dayofweek         0\n",
       "pickup_time              0\n",
       "pickup_location_code     0\n",
       "dropoff_location_code    0\n",
       "trip_distance            0\n",
       "trip_length              0\n",
       "fare_amount              0\n",
       "fees_amount              0\n",
       "tolls_amount             0\n",
       "tip_amount               0\n",
       "total_amount             0\n",
       "payment_type             0\n",
       "dtype: int64"
      ]
     },
     "execution_count": 117,
     "metadata": {},
     "output_type": "execute_result"
    }
   ],
   "source": [
    "df.columns\n",
    "# df.head(10)\n",
    "df.info()\n",
    "df.isnull().sum()\n"
   ]
  },
  {
   "cell_type": "markdown",
   "id": "85699d80-cab6-4950-9cf0-8162a4b8e1f5",
   "metadata": {},
   "source": [
    "## 1.Mean Speed of all the rides\n",
    "    speed = distance/time"
   ]
  },
  {
   "cell_type": "code",
   "execution_count": 98,
   "id": "b8433a2e-81f9-4944-a6f8-15c5190817f2",
   "metadata": {},
   "outputs": [
    {
     "data": {
      "text/plain": [
       "array([37.11340206, 37.89473684, 29.54856361, ..., 21.68674699,\n",
       "       39.88919668, 35.7685564 ])"
      ]
     },
     "execution_count": 98,
     "metadata": {},
     "output_type": "execute_result"
    }
   ],
   "source": [
    "speed = cab_data[:,7]/ (cab_data[:,8]/3600)  ## We have length, we assume that length in sec, so we need to convert the length into time(in seconds).\n",
    "speed"
   ]
  },
  {
   "cell_type": "code",
   "execution_count": 99,
   "id": "3530b31f-d29b-4974-b2ee-0a8df73c83b6",
   "metadata": {},
   "outputs": [
    {
     "data": {
      "text/plain": [
       "30.664805016170458"
      ]
     },
     "execution_count": 99,
     "metadata": {},
     "output_type": "execute_result"
    }
   ],
   "source": [
    "## Now we need to calculate the mean of the speed.\n",
    "mean_speed = speed.mean()\n",
    "mean_speed    #Final output of the mean speed."
   ]
  },
  {
   "cell_type": "code",
   "execution_count": 95,
   "id": "ad93ec1b-3c6c-4405-8449-c121ff42336c",
   "metadata": {},
   "outputs": [],
   "source": [
    "# ANSWER\n",
    "# Mean speed of all Rides is '32.24'."
   ]
  },
  {
   "cell_type": "markdown",
   "id": "b723f6f7-26d2-49b0-9b61-8361251a7f70",
   "metadata": {},
   "source": [
    "## 2. Number Of Rides Taken in February"
   ]
  },
  {
   "cell_type": "code",
   "execution_count": 93,
   "id": "b24d7bfe-f9dc-42ae-8bb8-9c4e43b579f8",
   "metadata": {},
   "outputs": [
    {
     "data": {
      "text/plain": [
       "13333"
      ]
     },
     "execution_count": 93,
     "metadata": {},
     "output_type": "execute_result"
    }
   ],
   "source": [
    "\n",
    "rides_feb = cab_data[cab_data[ :,1] == 2, 1]\n",
    "\n",
    "rides_feb.size\n"
   ]
  },
  {
   "cell_type": "code",
   "execution_count": 94,
   "id": "93ac865c-578d-4893-88f5-2d221d9b741c",
   "metadata": {},
   "outputs": [],
   "source": [
    "# ANSWER\n",
    "# Nuber of rides taken in february is '13333'."
   ]
  },
  {
   "cell_type": "markdown",
   "id": "3dcd90e3-9fa0-424c-aab2-3c7e14a8d78e",
   "metadata": {},
   "source": [
    "## 3. Number of rides tip more then $50?"
   ]
  },
  {
   "cell_type": "code",
   "execution_count": 111,
   "id": "09c988ac-8959-4696-b0e3-0e3ec318ad5a",
   "metadata": {},
   "outputs": [
    {
     "data": {
      "text/plain": [
       "array([11,  8,  0, ...,  5,  8,  0])"
      ]
     },
     "execution_count": 111,
     "metadata": {},
     "output_type": "execute_result"
    }
   ],
   "source": [
    "tip = cab_data[:,-3]\n",
    "tip"
   ]
  },
  {
   "cell_type": "code",
   "execution_count": 72,
   "id": "e1cecd78-533b-44cb-a536-3879a1b107cb",
   "metadata": {},
   "outputs": [],
   "source": [
    "tip_count = []\n",
    "for i in tip:\n",
    "    if i > 50:\n",
    "     tip_count.append(i)"
   ]
  },
  {
   "cell_type": "code",
   "execution_count": 74,
   "id": "dcd7fb8c-ef87-401c-8f53-cc6eaa69bbb4",
   "metadata": {},
   "outputs": [
    {
     "data": {
      "text/plain": [
       "16"
      ]
     },
     "execution_count": 74,
     "metadata": {},
     "output_type": "execute_result"
    }
   ],
   "source": [
    "tip50 = np.array(tip_count).size\n",
    "tip50"
   ]
  },
  {
   "cell_type": "code",
   "execution_count": 76,
   "id": "1a5094f5-6091-4697-ba49-00c459708ff9",
   "metadata": {
    "jupyter": {
     "source_hidden": true
    }
   },
   "outputs": [
    {
     "data": {
      "text/plain": [
       "16"
      ]
     },
     "execution_count": 76,
     "metadata": {},
     "output_type": "execute_result"
    }
   ],
   "source": [
    "# METHOD - 2\n",
    "cab_data[cab_data[:,-3]>50 , -3].size"
   ]
  },
  {
   "cell_type": "code",
   "execution_count": null,
   "id": "a268254b-8d12-4635-a88c-bf92d0fc2f90",
   "metadata": {},
   "outputs": [],
   "source": [
    "# ANSWER:-\n",
    "# Number of rides with tip more then $50 is '16'."
   ]
  },
  {
   "cell_type": "markdown",
   "id": "ef0ece63-e553-401e-9d6e-acf24161bfab",
   "metadata": {},
   "source": [
    "## 4. Number of rides where drop was JFK Airport?\n"
   ]
  },
  {
   "cell_type": "code",
   "execution_count": 82,
   "id": "30e915e5-e0a8-49d4-9fde-01b14fadb1ad",
   "metadata": {},
   "outputs": [
    {
     "data": {
      "text/plain": [
       "11832"
      ]
     },
     "execution_count": 82,
     "metadata": {},
     "output_type": "execute_result"
    }
   ],
   "source": [
    "# Method-1\n",
    "cab_data[cab_data[:,6]==2, 6].size"
   ]
  },
  {
   "cell_type": "code",
   "execution_count": 84,
   "id": "4f3c44b1-481f-425d-a88f-30c05f5e7468",
   "metadata": {},
   "outputs": [
    {
     "data": {
      "text/plain": [
       "array([4, 1, 6, ..., 4, 6, 0])"
      ]
     },
     "execution_count": 84,
     "metadata": {},
     "output_type": "execute_result"
    }
   ],
   "source": [
    "# METHOD-2\n",
    "drop_loc = cab_data[:,6]\n",
    "drop_loc"
   ]
  },
  {
   "cell_type": "code",
   "execution_count": 85,
   "id": "b1e85f2d-45e8-4f12-a6bd-e92b8376a162",
   "metadata": {},
   "outputs": [],
   "source": [
    "JFK_count = []\n",
    "for i in drop_loc:\n",
    "    if i == 2:\n",
    "        JFK_count.append(i)\n",
    "        "
   ]
  },
  {
   "cell_type": "code",
   "execution_count": 89,
   "id": "0dff39a2-8faa-43b4-91c3-f4b0890375fe",
   "metadata": {},
   "outputs": [
    {
     "data": {
      "text/plain": [
       "11832"
      ]
     },
     "execution_count": 89,
     "metadata": {},
     "output_type": "execute_result"
    }
   ],
   "source": [
    "JFK_count\n",
    "np.array(JFK_count).size"
   ]
  },
  {
   "cell_type": "code",
   "execution_count": 90,
   "id": "862f807e-8cbd-4660-89b7-e3db1daa2a18",
   "metadata": {},
   "outputs": [],
   "source": [
    "# ANSWER:-\n",
    "# Number of drops at JFK Airport is '11832'."
   ]
  },
  {
   "cell_type": "markdown",
   "id": "9f8ef500-cc6e-47b9-b284-0cd7d85767d4",
   "metadata": {},
   "source": [
    "## 5. Minimum ,maximum and average far_amount of a ride?"
   ]
  },
  {
   "cell_type": "code",
   "execution_count": 103,
   "id": "62c4adc9-663b-4cc1-9f20-3f319838d21e",
   "metadata": {},
   "outputs": [
    {
     "data": {
      "text/plain": [
       "array([52, 45, 36, ..., 52, 34, 48])"
      ]
     },
     "execution_count": 103,
     "metadata": {},
     "output_type": "execute_result"
    }
   ],
   "source": [
    "fare_amount = cab_data[:,-6]\n",
    "fare_amount"
   ]
  },
  {
   "cell_type": "code",
   "execution_count": 104,
   "id": "20db5a98-7c39-4432-939e-8d0bc315f038",
   "metadata": {},
   "outputs": [
    {
     "data": {
      "text/plain": [
       "-52"
      ]
     },
     "execution_count": 104,
     "metadata": {},
     "output_type": "execute_result"
    }
   ],
   "source": [
    "np.min(fare_amount)"
   ]
  },
  {
   "cell_type": "code",
   "execution_count": 105,
   "id": "4425ab80-810b-4370-a6c5-6267d01bbada",
   "metadata": {},
   "outputs": [
    {
     "data": {
      "text/plain": [
       "400"
      ]
     },
     "execution_count": 105,
     "metadata": {},
     "output_type": "execute_result"
    }
   ],
   "source": [
    "np.max(fare_amount)"
   ]
  },
  {
   "cell_type": "code",
   "execution_count": 112,
   "id": "93e5a381-9b4a-4859-aec1-2b96ccdacaae",
   "metadata": {},
   "outputs": [
    {
     "data": {
      "text/plain": [
       "array([69, 54, 37, ..., 63, 44, 54])"
      ]
     },
     "execution_count": 112,
     "metadata": {},
     "output_type": "execute_result"
    }
   ],
   "source": [
    "## Total amount after adding all the charges and tips?\n",
    "total_amount = cab_data[:,-2]\n",
    "total_amount"
   ]
  },
  {
   "cell_type": "code",
   "execution_count": 132,
   "id": "c4b7ddaf-87a6-41d4-ad5b-b5f84dee6686",
   "metadata": {},
   "outputs": [
    {
     "data": {
      "text/plain": [
       "-58"
      ]
     },
     "execution_count": 132,
     "metadata": {},
     "output_type": "execute_result"
    }
   ],
   "source": [
    "np.min(total_amount) ##MIN OF FARE AMOUNT"
   ]
  },
  {
   "cell_type": "code",
   "execution_count": 114,
   "id": "896bd0ce-ea0a-459c-af25-c4cabafaaf2c",
   "metadata": {},
   "outputs": [
    {
     "data": {
      "text/plain": [
       "834"
      ]
     },
     "execution_count": 114,
     "metadata": {},
     "output_type": "execute_result"
    }
   ],
   "source": [
    "np.max(total_amount  ##MAX OF FARE AMOUNT"
   ]
  },
  {
   "cell_type": "code",
   "execution_count": 131,
   "id": "fea74085-aebe-4ced-b19e-b539324d3914",
   "metadata": {},
   "outputs": [
    {
     "data": {
      "text/plain": [
       "48.45901071907102"
      ]
     },
     "execution_count": 131,
     "metadata": {},
     "output_type": "execute_result"
    }
   ],
   "source": [
    "np.mean(total_amount)  ##AVERAGE OF FARE AMOUNT"
   ]
  },
  {
   "cell_type": "markdown",
   "id": "c5021591-7c02-4d31-bea8-5c9f5e9e8b76",
   "metadata": {},
   "source": [
    "## 6. Number of trips per month"
   ]
  },
  {
   "cell_type": "code",
   "execution_count": 119,
   "id": "6e6fd5cf-d8a0-4118-b588-efa8bd14c71a",
   "metadata": {},
   "outputs": [],
   "source": [
    "trips = cab_data[:,1]"
   ]
  },
  {
   "cell_type": "code",
   "execution_count": 120,
   "id": "3c2668c8-27d3-4b5f-835b-e4397f354d8d",
   "metadata": {},
   "outputs": [
    {
     "data": {
      "text/plain": [
       "array([1, 2, 3, 4, 5, 6])"
      ]
     },
     "execution_count": 120,
     "metadata": {},
     "output_type": "execute_result"
    }
   ],
   "source": [
    "np.unique(trips)"
   ]
  },
  {
   "cell_type": "code",
   "execution_count": 121,
   "id": "a526a435-c3a9-41b0-a7d8-4b8105979274",
   "metadata": {},
   "outputs": [
    {
     "data": {
      "text/plain": [
       "array([1, 1, 1, ..., 6, 6, 6])"
      ]
     },
     "execution_count": 121,
     "metadata": {},
     "output_type": "execute_result"
    }
   ],
   "source": [
    "trips"
   ]
  },
  {
   "cell_type": "code",
   "execution_count": 125,
   "id": "626534a2-ced8-4953-9f19-05d56c684c07",
   "metadata": {},
   "outputs": [
    {
     "data": {
      "text/plain": [
       "array([13481, 13333, 15547, 14810, 16650, 15739], dtype=int64)"
      ]
     },
     "execution_count": 125,
     "metadata": {},
     "output_type": "execute_result"
    }
   ],
   "source": [
    "month,rides = np.unique(trips,return_counts = True)\n",
    "month\n",
    "rides"
   ]
  },
  {
   "cell_type": "code",
   "execution_count": 128,
   "id": "399b1f68-3570-4b2e-813d-a1ba691b87de",
   "metadata": {},
   "outputs": [
    {
     "data": {
      "text/plain": [
       "{1: 13481, 2: 13333, 3: 15547, 4: 14810, 5: 16650, 6: 15739}"
      ]
     },
     "execution_count": 128,
     "metadata": {},
     "output_type": "execute_result"
    }
   ],
   "source": [
    "trips_per_month = dict(zip(month,rides))\n",
    "trips_per_month\n"
   ]
  },
  {
   "cell_type": "code",
   "execution_count": 130,
   "id": "97c334f8-c2b9-4bf2-8c89-b4be5c81aca6",
   "metadata": {},
   "outputs": [],
   "source": [
    "# ANSWER\n",
    "# NUMBER OF TRIPS PER MONTH IS:--- {1: 13481, 2: 13333, 3: 15547, 4: 14810, 5: 16650, 6: 15739}"
   ]
  },
  {
   "cell_type": "markdown",
   "id": "92c9a1cd-5d30-4839-b031-ca86eb1d5365",
   "metadata": {},
   "source": [
    "## 7. How Locations that cab went on overall NYC?"
   ]
  },
  {
   "cell_type": "code",
   "execution_count": 134,
   "id": "4a53a031-60b2-479f-9d47-40de1d3369a4",
   "metadata": {},
   "outputs": [
    {
     "data": {
      "text/plain": [
       "array([2, 2, 2, ..., 2, 2, 2])"
      ]
     },
     "execution_count": 134,
     "metadata": {},
     "output_type": "execute_result"
    }
   ],
   "source": [
    "pickup_location = cab_data[:,5]\n",
    "pickup_location"
   ]
  },
  {
   "cell_type": "code",
   "execution_count": 135,
   "id": "35c789a9-7fef-429f-89c8-df46dc5ecd7f",
   "metadata": {},
   "outputs": [
    {
     "data": {
      "text/plain": [
       "array([4, 1, 6, ..., 4, 6, 0])"
      ]
     },
     "execution_count": 135,
     "metadata": {},
     "output_type": "execute_result"
    }
   ],
   "source": [
    "drop_location = cab_data[:,6]\n",
    "drop_location"
   ]
  },
  {
   "cell_type": "code",
   "execution_count": 141,
   "id": "416777ed-3ddb-4483-bc4b-5a525f2a1d82",
   "metadata": {},
   "outputs": [],
   "source": [
    "locations = np.unique(pickup_location + drop_location)"
   ]
  },
  {
   "cell_type": "code",
   "execution_count": 142,
   "id": "66dec6c9-87bc-4bf5-b58c-2ff32dbbd755",
   "metadata": {},
   "outputs": [
    {
     "data": {
      "text/plain": [
       "9"
      ]
     },
     "execution_count": 142,
     "metadata": {},
     "output_type": "execute_result"
    }
   ],
   "source": [
    "locations.size"
   ]
  },
  {
   "cell_type": "code",
   "execution_count": 143,
   "id": "f4113153-9539-4f90-93ef-efd531cbca1d",
   "metadata": {},
   "outputs": [],
   "source": [
    "# ANSWER\n",
    "# TOTAL LOCATIONS THAT THE CAB WENT IS '9'."
   ]
  },
  {
   "cell_type": "markdown",
   "id": "e12b89ce-e4c1-424d-8f8b-98df0c758ff3",
   "metadata": {},
   "source": [
    "## 8. Fare amount Percentage\n",
    "    %fare amount = fare_amount/total_amount"
   ]
  },
  {
   "cell_type": "code",
   "execution_count": 146,
   "id": "f3035241-d740-42c2-b1d3-3e674880f21b",
   "metadata": {},
   "outputs": [
    {
     "data": {
      "text/plain": [
       "array([52, 45, 36, ..., 52, 34, 48])"
      ]
     },
     "execution_count": 146,
     "metadata": {},
     "output_type": "execute_result"
    }
   ],
   "source": [
    "fare_amount = cab_data[:,9]\n",
    "fare_amount"
   ]
  },
  {
   "cell_type": "code",
   "execution_count": 147,
   "id": "38c17cb3-2890-47a5-99c7-455c39e6ee15",
   "metadata": {},
   "outputs": [
    {
     "data": {
      "text/plain": [
       "array([69, 54, 37, ..., 63, 44, 54])"
      ]
     },
     "execution_count": 147,
     "metadata": {},
     "output_type": "execute_result"
    }
   ],
   "source": [
    "total_amount = cab_data[:,13]\n",
    "total_amount"
   ]
  },
  {
   "cell_type": "code",
   "execution_count": 154,
   "id": "5a2bb1c7-19dc-418f-ab3f-d7f41191f8b5",
   "metadata": {},
   "outputs": [
    {
     "data": {
      "text/plain": [
       "array([1.09220752, 1.54320988, 2.62965668, ..., 1.31015369, 1.75619835,\n",
       "       1.64609053])"
      ]
     },
     "execution_count": 154,
     "metadata": {},
     "output_type": "execute_result"
    }
   ],
   "source": [
    "fare_amount_percentage = fare_amount/total_amount*100\n",
    "fare_amount_percentage\n",
    "\n"
   ]
  },
  {
   "cell_type": "markdown",
   "id": "02bb828d-9f1c-4f12-ae46-b0bd603cfd31",
   "metadata": {},
   "source": [
    "## 9. Types of payments done by the customer"
   ]
  },
  {
   "cell_type": "code",
   "execution_count": 160,
   "id": "7035c7fb-8b81-45dc-897f-a531b84a8ce7",
   "metadata": {},
   "outputs": [
    {
     "data": {
      "text/plain": [
       "array([1, 1, 2, ..., 1, 1, 2])"
      ]
     },
     "execution_count": 160,
     "metadata": {},
     "output_type": "execute_result"
    }
   ],
   "source": [
    "payments = cab_data[:,-1]\n",
    "payments"
   ]
  },
  {
   "cell_type": "code",
   "execution_count": 164,
   "id": "d7f36311-a2ca-47ec-9982-2add06b7bcd3",
   "metadata": {},
   "outputs": [
    {
     "data": {
      "text/plain": [
       "array([64356, 24520,   560,   124], dtype=int64)"
      ]
     },
     "execution_count": 164,
     "metadata": {},
     "output_type": "execute_result"
    }
   ],
   "source": [
    "payment_types,count = np.unique(payments, return_counts = True )\n",
    "payment_types\n",
    "count"
   ]
  },
  {
   "cell_type": "code",
   "execution_count": 165,
   "id": "36594bcc-32d2-4386-aa50-cfe9a9330a25",
   "metadata": {},
   "outputs": [
    {
     "data": {
      "text/plain": [
       "4"
      ]
     },
     "execution_count": 165,
     "metadata": {},
     "output_type": "execute_result"
    }
   ],
   "source": [
    "payment_types.size"
   ]
  },
  {
   "cell_type": "code",
   "execution_count": null,
   "id": "e0d8ae74-a2ea-43a7-ba64-bb6756c67e6f",
   "metadata": {
    "jupyter": {
     "source_hidden": true
    }
   },
   "outputs": [],
   "source": [
    "# ANSWER\n",
    "# '4' Types of payments are used by the customer"
   ]
  },
  {
   "cell_type": "markdown",
   "id": "e7b1c27e-eb40-413b-8640-efab456fe809",
   "metadata": {},
   "source": [
    "## 10. MIn and Max Distance travelled by the cab"
   ]
  },
  {
   "cell_type": "code",
   "execution_count": 168,
   "id": "032c552f-92fe-4b65-9b9b-373a4b16ac73",
   "metadata": {},
   "outputs": [
    {
     "data": {
      "text/plain": [
       "array([21, 16, 12, ..., 17, 12, 17])"
      ]
     },
     "execution_count": 168,
     "metadata": {},
     "output_type": "execute_result"
    }
   ],
   "source": [
    "trip_distance = cab_data[:,7]\n",
    "trip_distance"
   ]
  },
  {
   "cell_type": "code",
   "execution_count": 169,
   "id": "4fb32e70-fdec-4893-a5c2-7a989e370866",
   "metadata": {},
   "outputs": [
    {
     "data": {
      "text/plain": [
       "0"
      ]
     },
     "execution_count": 169,
     "metadata": {},
     "output_type": "execute_result"
    }
   ],
   "source": [
    "np.min(trip_distance)"
   ]
  },
  {
   "cell_type": "code",
   "execution_count": 170,
   "id": "9988f7e5-d6c3-4a0e-9293-b1bc3cbc60ec",
   "metadata": {},
   "outputs": [
    {
     "data": {
      "text/plain": [
       "182"
      ]
     },
     "execution_count": 170,
     "metadata": {},
     "output_type": "execute_result"
    }
   ],
   "source": [
    "np.max(trip_distance)"
   ]
  },
  {
   "cell_type": "code",
   "execution_count": 171,
   "id": "da38bf4b-2e47-47a4-8a1e-7049428b827d",
   "metadata": {},
   "outputs": [
    {
     "data": {
      "text/plain": [
       "12.197096918267084"
      ]
     },
     "execution_count": 171,
     "metadata": {},
     "output_type": "execute_result"
    }
   ],
   "source": [
    "np.mean(trip_distance)"
   ]
  },
  {
   "cell_type": "code",
   "execution_count": null,
   "id": "03f426e4-2aa4-4ece-bc50-4e77885bd45e",
   "metadata": {},
   "outputs": [],
   "source": []
  }
 ],
 "metadata": {
  "kernelspec": {
   "display_name": "Python 3 (ipykernel)",
   "language": "python",
   "name": "python3"
  },
  "language_info": {
   "codemirror_mode": {
    "name": "ipython",
    "version": 3
   },
   "file_extension": ".py",
   "mimetype": "text/x-python",
   "name": "python",
   "nbconvert_exporter": "python",
   "pygments_lexer": "ipython3",
   "version": "3.12.7"
  }
 },
 "nbformat": 4,
 "nbformat_minor": 5
}
