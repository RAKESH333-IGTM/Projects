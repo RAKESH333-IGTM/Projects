{
 "cells": [
  {
   "cell_type": "code",
   "execution_count": 1,
   "id": "3eb04d15-5e2b-49f0-8bc3-f6a0adce6748",
   "metadata": {},
   "outputs": [
    {
     "name": "stdout",
     "output_type": "stream",
     "text": [
      "Requirement already satisfied: numpy in c:\\users\\rakes\\python\\anaconda\\lib\\site-packages (1.26.4)\n",
      "Note: you may need to restart the kernel to use updated packages.\n"
     ]
    }
   ],
   "source": [
    "%pip install numpy"
   ]
  },
  {
   "cell_type": "code",
   "execution_count": 2,
   "id": "5155260e-3249-46ca-b2d4-300a9a0d7773",
   "metadata": {},
   "outputs": [],
   "source": [
    "import numpy as np"
   ]
  },
  {
   "cell_type": "code",
   "execution_count": null,
   "id": "23e8ef3b-03ac-4691-8aaf-79bbbc48fea3",
   "metadata": {},
   "outputs": [],
   "source": [
    "%pip install --Upgrade numpy\n",
    "import warnings\n",
    "warnings.filterwarnings('ignore')"
   ]
  },
  {
   "cell_type": "code",
   "execution_count": null,
   "id": "b3b3e88f-5088-4411-864e-b463fedeac18",
   "metadata": {},
   "outputs": [],
   "source": [
    "print(np.__version__)"
   ]
  },
  {
   "cell_type": "code",
   "execution_count": null,
   "id": "daea3295-ef9d-429c-8583-58c23736a04e",
   "metadata": {},
   "outputs": [],
   "source": []
  },
  {
   "cell_type": "code",
   "execution_count": 5,
   "id": "3910b464-78d9-449a-b36f-fc62a1417878",
   "metadata": {},
   "outputs": [
    {
     "name": "stdout",
     "output_type": "stream",
     "text": [
      "Build Dependencies:\n",
      "  blas:\n",
      "    detection method: pkgconfig\n",
      "    found: true\n",
      "    include directory: C:/Users/rakes/Python/anaconda/Library/include\n",
      "    lib directory: C:/Users/rakes/Python/anaconda/Library/lib\n",
      "    name: mkl-sdl\n",
      "    openblas configuration: unknown\n",
      "    pc file directory: C:\\b\\abs_c1ywpu18ar\\croot\\numpy_and_numpy_base_1708638681471\\_h_env\\Library\\lib\\pkgconfig\n",
      "    version: '2023.1'\n",
      "  lapack:\n",
      "    detection method: internal\n",
      "    found: true\n",
      "    include directory: unknown\n",
      "    lib directory: unknown\n",
      "    name: dep1583119523984\n",
      "    openblas configuration: unknown\n",
      "    pc file directory: unknown\n",
      "    version: 1.26.4\n",
      "Compilers:\n",
      "  c:\n",
      "    commands: cl.exe\n",
      "    linker: link\n",
      "    name: msvc\n",
      "    version: 19.29.30154\n",
      "  c++:\n",
      "    commands: cl.exe\n",
      "    linker: link\n",
      "    name: msvc\n",
      "    version: 19.29.30154\n",
      "  cython:\n",
      "    commands: cython\n",
      "    linker: cython\n",
      "    name: cython\n",
      "    version: 3.0.8\n",
      "Machine Information:\n",
      "  build:\n",
      "    cpu: x86_64\n",
      "    endian: little\n",
      "    family: x86_64\n",
      "    system: windows\n",
      "  host:\n",
      "    cpu: x86_64\n",
      "    endian: little\n",
      "    family: x86_64\n",
      "    system: windows\n",
      "Python Information:\n",
      "  path: C:\\b\\abs_c1ywpu18ar\\croot\\numpy_and_numpy_base_1708638681471\\_h_env\\python.exe\n",
      "  version: '3.12'\n",
      "SIMD Extensions:\n",
      "  baseline:\n",
      "  - SSE\n",
      "  - SSE2\n",
      "  - SSE3\n",
      "  found:\n",
      "  - SSSE3\n",
      "  - SSE41\n",
      "  - POPCNT\n",
      "  - SSE42\n",
      "  - AVX\n",
      "  - F16C\n",
      "  - FMA3\n",
      "  - AVX2\n",
      "  - AVX512F\n",
      "  - AVX512CD\n",
      "  - AVX512_SKX\n",
      "  - AVX512_CLX\n",
      "  - AVX512_CNL\n",
      "  - AVX512_ICL\n",
      "\n",
      "None\n"
     ]
    }
   ],
   "source": [
    "print(np.show_config())"
   ]
  },
  {
   "cell_type": "code",
   "execution_count": 6,
   "id": "7843babf-4bfb-40e5-98d0-68613d233c57",
   "metadata": {},
   "outputs": [
    {
     "name": "stdout",
     "output_type": "stream",
     "text": [
      "[['ALLOW_THREADS', 'BUFSIZE', 'CLIP', 'DataSource', 'ERR_CALL', 'ERR_DEFAULT', 'ERR_IGNORE', 'ERR_LOG', 'ERR_PRINT', 'ERR_RAISE', 'ERR_WARN', 'FLOATING_POINT_SUPPORT', 'FPE_DIVIDEBYZERO', 'FPE_INVALID', 'FPE_OVERFLOW', 'FPE_UNDERFLOW', 'False_', 'Inf', 'Infinity', 'MAXDIMS', 'MAY_SHARE_BOUNDS', 'MAY_SHARE_EXACT', 'NAN', 'NINF', 'NZERO', 'NaN', 'PINF', 'PZERO', 'RAISE', 'RankWarning', 'SHIFT_DIVIDEBYZERO', 'SHIFT_INVALID', 'SHIFT_OVERFLOW', 'SHIFT_UNDERFLOW', 'ScalarType', 'True_', 'UFUNC_BUFSIZE_DEFAULT', 'UFUNC_PYVALS_NAME', 'WRAP', '_CopyMode', '_NoValue', '_UFUNC_API', '__NUMPY_SETUP__', '__all__', '__builtins__', '__cached__', '__config__', '__deprecated_attrs__', '__dir__', '__doc__', '__expired_functions__', '__file__', '__former_attrs__', '__future_scalars__', '__getattr__', '__loader__', '__name__', '__package__', '__path__', '__spec__', '__version__', '_add_newdoc_ufunc', '_builtins', '_distributor_init', '_financial_names', '_get_promotion_state', '_globals', '_int_extended_msg', '_mat', '_no_nep50_warning', '_pyinstaller_hooks_dir', '_pytesttester', '_set_promotion_state', '_specific_msg', '_typing', '_using_numpy2_behavior', '_utils', 'abs', 'absolute', 'add', 'add_docstring', 'add_newdoc', 'add_newdoc_ufunc', 'all', 'allclose', 'alltrue', 'amax', 'amin', 'angle', 'any', 'append', 'apply_along_axis', 'apply_over_axes', 'arange', 'arccos', 'arccosh', 'arcsin', 'arcsinh', 'arctan', 'arctan2', 'arctanh', 'argmax', 'argmin', 'argpartition', 'argsort', 'argwhere', 'around', 'array', 'array2string', 'array_equal', 'array_equiv', 'array_repr', 'array_split', 'array_str', 'asanyarray', 'asarray', 'asarray_chkfinite', 'ascontiguousarray', 'asfarray', 'asfortranarray', 'asmatrix', 'atleast_1d', 'atleast_2d', 'atleast_3d', 'average', 'bartlett', 'base_repr', 'binary_repr', 'bincount', 'bitwise_and', 'bitwise_not', 'bitwise_or', 'bitwise_xor', 'blackman', 'block', 'bmat', 'bool_', 'broadcast', 'broadcast_arrays', 'broadcast_shapes', 'broadcast_to', 'busday_count', 'busday_offset', 'busdaycalendar', 'byte', 'byte_bounds', 'bytes_', 'c_', 'can_cast', 'cast', 'cbrt', 'cdouble', 'ceil', 'cfloat', 'char', 'character', 'chararray', 'choose', 'clip', 'clongdouble', 'clongfloat', 'column_stack', 'common_type', 'compare_chararrays', 'compat', 'complex128', 'complex64', 'complex_', 'complexfloating', 'compress', 'concatenate', 'conj', 'conjugate', 'convolve', 'copy', 'copysign', 'copyto', 'corrcoef', 'correlate', 'cos', 'cosh', 'count_nonzero', 'cov', 'cross', 'csingle', 'ctypeslib', 'cumprod', 'cumproduct', 'cumsum', 'datetime64', 'datetime_as_string', 'datetime_data', 'deg2rad', 'degrees', 'delete', 'deprecate', 'deprecate_with_doc', 'diag', 'diag_indices', 'diag_indices_from', 'diagflat', 'diagonal', 'diff', 'digitize', 'disp', 'divide', 'divmod', 'dot', 'double', 'dsplit', 'dstack', 'dtype', 'dtypes', 'e', 'ediff1d', 'einsum', 'einsum_path', 'emath', 'empty', 'empty_like', 'equal', 'errstate', 'euler_gamma', 'exceptions', 'exp', 'exp2', 'expand_dims', 'expm1', 'extract', 'eye', 'fabs', 'fastCopyAndTranspose', 'fft', 'fill_diagonal', 'find_common_type', 'finfo', 'fix', 'flatiter', 'flatnonzero', 'flexible', 'flip', 'fliplr', 'flipud', 'float16', 'float32', 'float64', 'float_', 'float_power', 'floating', 'floor', 'floor_divide', 'fmax', 'fmin', 'fmod', 'format_float_positional', 'format_float_scientific', 'format_parser', 'frexp', 'from_dlpack', 'frombuffer', 'fromfile', 'fromfunction', 'fromiter', 'frompyfunc', 'fromregex', 'fromstring', 'full', 'full_like', 'gcd', 'generic', 'genfromtxt', 'geomspace', 'get_array_wrap', 'get_include', 'get_printoptions', 'getbufsize', 'geterr', 'geterrcall', 'geterrobj', 'gradient', 'greater', 'greater_equal', 'half', 'hamming', 'hanning', 'heaviside', 'histogram', 'histogram2d', 'histogram_bin_edges', 'histogramdd', 'hsplit', 'hstack', 'hypot', 'i0', 'identity', 'iinfo', 'imag', 'in1d', 'index_exp', 'indices', 'inexact', 'inf', 'info', 'infty', 'inner', 'insert', 'int16', 'int32', 'int64', 'int8', 'int_', 'intc', 'integer', 'interp', 'intersect1d', 'intp', 'invert', 'is_busday', 'isclose', 'iscomplex', 'iscomplexobj', 'isfinite', 'isfortran', 'isin', 'isinf', 'isnan', 'isnat', 'isneginf', 'isposinf', 'isreal', 'isrealobj', 'isscalar', 'issctype', 'issubclass_', 'issubdtype', 'issubsctype', 'iterable', 'ix_', 'kaiser', 'kron', 'lcm', 'ldexp', 'left_shift', 'less', 'less_equal', 'lexsort', 'lib', 'linalg', 'linspace', 'little_endian', 'load', 'loadtxt', 'log', 'log10', 'log1p', 'log2', 'logaddexp', 'logaddexp2', 'logical_and', 'logical_not', 'logical_or', 'logical_xor', 'logspace', 'longcomplex', 'longdouble', 'longfloat', 'longlong', 'lookfor', 'ma', 'mask_indices', 'mat', 'matmul', 'matrix', 'max', 'maximum', 'maximum_sctype', 'may_share_memory', 'mean', 'median', 'memmap', 'meshgrid', 'mgrid', 'min', 'min_scalar_type', 'minimum', 'mintypecode', 'mod', 'modf', 'moveaxis', 'msort', 'multiply', 'nan', 'nan_to_num', 'nanargmax', 'nanargmin', 'nancumprod', 'nancumsum', 'nanmax', 'nanmean', 'nanmedian', 'nanmin', 'nanpercentile', 'nanprod', 'nanquantile', 'nanstd', 'nansum', 'nanvar', 'nbytes', 'ndarray', 'ndenumerate', 'ndim', 'ndindex', 'nditer', 'negative', 'nested_iters', 'newaxis', 'nextafter', 'nonzero', 'not_equal', 'numarray', 'number', 'obj2sctype', 'object_', 'ogrid', 'oldnumeric', 'ones', 'ones_like', 'outer', 'packbits', 'pad', 'partition', 'percentile', 'pi', 'piecewise', 'place', 'poly', 'poly1d', 'polyadd', 'polyder', 'polydiv', 'polyfit', 'polyint', 'polymul', 'polynomial', 'polysub', 'polyval', 'positive', 'power', 'printoptions', 'prod', 'product', 'promote_types', 'ptp', 'put', 'put_along_axis', 'putmask', 'quantile', 'r_', 'rad2deg', 'radians', 'random', 'ravel', 'ravel_multi_index', 'real', 'real_if_close', 'rec', 'recarray', 'recfromcsv', 'recfromtxt', 'reciprocal', 'record', 'remainder', 'repeat', 'require', 'reshape', 'resize', 'result_type', 'right_shift', 'rint', 'roll', 'rollaxis', 'roots', 'rot90', 'round', 'round_', 'row_stack', 's_', 'safe_eval', 'save', 'savetxt', 'savez', 'savez_compressed', 'sctype2char', 'sctypeDict', 'sctypes', 'searchsorted', 'select', 'set_numeric_ops', 'set_printoptions', 'set_string_function', 'setbufsize', 'setdiff1d', 'seterr', 'seterrcall', 'seterrobj', 'setxor1d', 'shape', 'shares_memory', 'short', 'show_config', 'show_runtime', 'sign', 'signbit', 'signedinteger', 'sin', 'sinc', 'single', 'singlecomplex', 'sinh', 'size', 'sometrue', 'sort', 'sort_complex', 'source', 'spacing', 'split', 'sqrt', 'square', 'squeeze', 'stack', 'std', 'str_', 'string_', 'subtract', 'sum', 'swapaxes', 'take', 'take_along_axis', 'tan', 'tanh', 'tensordot', 'test', 'testing', 'tile', 'timedelta64', 'trace', 'tracemalloc_domain', 'transpose', 'trapz', 'tri', 'tril', 'tril_indices', 'tril_indices_from', 'trim_zeros', 'triu', 'triu_indices', 'triu_indices_from', 'true_divide', 'trunc', 'typecodes', 'typename', 'ubyte', 'ufunc', 'uint', 'uint16', 'uint32', 'uint64', 'uint8', 'uintc', 'uintp', 'ulonglong', 'unicode_', 'union1d', 'unique', 'unpackbits', 'unravel_index', 'unsignedinteger', 'unwrap', 'ushort', 'vander', 'var', 'vdot', 'vectorize', 'version', 'void', 'vsplit', 'vstack', 'where', 'who', 'zeros', 'zeros_like']]\n"
     ]
    }
   ],
   "source": [
    "dir_attributed = dir(np)   # Below are the number of properties or attributes present in the numpy library.\n",
    "print([dir_attributed])"
   ]
  },
  {
   "cell_type": "code",
   "execution_count": null,
   "id": "a45bf283-d7b2-47bf-b40b-5ec4c586720e",
   "metadata": {},
   "outputs": [],
   "source": []
  },
  {
   "cell_type": "code",
   "execution_count": 7,
   "id": "0c646fed-3236-4709-8bb5-bb46ce8aee21",
   "metadata": {},
   "outputs": [
    {
     "name": "stdout",
     "output_type": "stream",
     "text": [
      "Requirement already satisfied: pandas in c:\\users\\rakes\\python\\anaconda\\lib\\site-packages (2.2.2)\n",
      "Requirement already satisfied: numpy>=1.26.0 in c:\\users\\rakes\\python\\anaconda\\lib\\site-packages (from pandas) (1.26.4)\n",
      "Requirement already satisfied: python-dateutil>=2.8.2 in c:\\users\\rakes\\python\\anaconda\\lib\\site-packages (from pandas) (2.9.0.post0)\n",
      "Requirement already satisfied: pytz>=2020.1 in c:\\users\\rakes\\python\\anaconda\\lib\\site-packages (from pandas) (2024.1)\n",
      "Requirement already satisfied: tzdata>=2022.7 in c:\\users\\rakes\\python\\anaconda\\lib\\site-packages (from pandas) (2023.3)\n",
      "Requirement already satisfied: six>=1.5 in c:\\users\\rakes\\python\\anaconda\\lib\\site-packages (from python-dateutil>=2.8.2->pandas) (1.16.0)\n",
      "Note: you may need to restart the kernel to use updated packages.\n"
     ]
    }
   ],
   "source": [
    "%pip install pandas"
   ]
  },
  {
   "cell_type": "code",
   "execution_count": 8,
   "id": "423ed0a5-23c2-4c3c-9faa-4f9c8ee6e73e",
   "metadata": {},
   "outputs": [],
   "source": [
    "import pandas as pd"
   ]
  },
  {
   "cell_type": "markdown",
   "id": "3375e29c-1b09-466d-a902-c32883df8a29",
   "metadata": {},
   "source": [
    "# NUMPY (Numerical Python)\n",
    " ---> Numpy is a **library** written for scientific computing and data analysis. it stands for **numerical python**. <br>\n",
    " ---> The most basic object in Numpy is the ndarray, or simply an array, which is an **n-dimensional** ,**homogenous array**. By homogenous, we mean that all the elements in a numpy array have to be of the **same data type**, which is commonly numeric(float or integer)."
   ]
  },
  {
   "cell_type": "markdown",
   "id": "bcde6495-f37e-4013-bd08-8298e35262aa",
   "metadata": {},
   "source": [
    "## Introduction To Numpy\n",
    "   ---> Numpy is a Python library that supports multi-dimensional arrays and performs mathematical operations like linear algebra, Statistical analysis and Random Number Generation. <br>\n",
    "  **  %pip install numpy  ---> This is for th  installation of  the numpy library into the IDE. <br>\n",
    "  ** import numpy as np ----> This is for improting the numpy library into IDE."
   ]
  },
  {
   "cell_type": "markdown",
   "id": "f83c458d-1c46-4508-a8cb-3e0df9b2cb93",
   "metadata": {},
   "source": [
    "### Advantages of numpy.\n",
    "   ---> Supports multidimensional arrays (ndarray). <br>\n",
    "   ---> Uses less memory than lists. <br>\n",
    "   ---> Faster(optimized for numerical operations) than list. <br>\n",
    "   ---> Supports Vectorized Operations. <br>\n",
    "   ---> Supports matrix operations, Statistical computations and Broadcasting. <br>\n",
    "   ---> Supports of same datatype.\n",
    "   \n",
    "   "
   ]
  },
  {
   "cell_type": "code",
   "execution_count": 9,
   "id": "83e5ae03-3e14-4e05-9356-061796531153",
   "metadata": {},
   "outputs": [
    {
     "ename": "NameError",
     "evalue": "name 'arry1' is not defined",
     "output_type": "error",
     "traceback": [
      "\u001b[1;31m---------------------------------------------------------------------------\u001b[0m",
      "\u001b[1;31mNameError\u001b[0m                                 Traceback (most recent call last)",
      "Cell \u001b[1;32mIn[9], line 4\u001b[0m\n\u001b[0;32m      2\u001b[0m arr1\u001b[38;5;241m=\u001b[39m np\u001b[38;5;241m.\u001b[39marray([\u001b[38;5;241m3\u001b[39m,\u001b[38;5;241m6\u001b[39m,\u001b[38;5;241m9\u001b[39m,\u001b[38;5;241m13\u001b[39m,\u001b[38;5;241m16\u001b[39m],dtype\u001b[38;5;241m=\u001b[39m np\u001b[38;5;241m.\u001b[39mint64) \u001b[38;5;66;03m## We can also use (dtype = object), using this because the numpy has integer limit to print so we have to use this datatypes for printing the long integers \u001b[39;00m\n\u001b[0;32m      3\u001b[0m \u001b[38;5;66;03m##This is numpy array.\u001b[39;00m\n\u001b[1;32m----> 4\u001b[0m \u001b[38;5;28mprint\u001b[39m(arry1)\n",
      "\u001b[1;31mNameError\u001b[0m: name 'arry1' is not defined"
     ]
    }
   ],
   "source": [
    "import numpy as np\n",
    "arr1= np.array([3,6,9,13,16],dtype= np.int64) ## We can also use (dtype = object), using this because the numpy has integer limit to print so we have to use this datatypes for printing the long integers \n",
    "##This is numpy array.\n",
    "print(arry1)"
   ]
  },
  {
   "cell_type": "markdown",
   "id": "011d96f0-c372-45b8-a174-8f63f08bf3aa",
   "metadata": {},
   "source": [
    "#### 1d nimpy array"
   ]
  },
  {
   "cell_type": "code",
   "execution_count": null,
   "id": "1f6305a5-aa82-4557-a442-e6deb8a93a1d",
   "metadata": {},
   "outputs": [],
   "source": [
    "list1 = [30,60,90,33,66,99] #List\n",
    "list2 = ['ven','jenni','x']\n",
    "lst = ['java','vespa','AI']\n",
    "nparr1 = np.array(list1)## Convert list into the numpy array.\n",
    "nparr2 = np.array(list2, dtype = object) ## In numpy, the values should be of same datatype.\n",
    "nparr = np.array(lst, dtype = object)  # we need to add this object because of the exeeding limit of the nparray.\n",
    "print(nparr1)\n",
    "print(nparr2)\n",
    "print(nparr)\n",
    "result = nparr2 + nparr\n",
    "print(result)\n",
    "\n"
   ]
  },
  {
   "cell_type": "code",
   "execution_count": null,
   "id": "42fe6b6d-de76-455a-a49c-33eade8202f4",
   "metadata": {},
   "outputs": [],
   "source": [
    "type(nparr1)  ##This shows the array type.\n",
    "nparr1.shape"
   ]
  },
  {
   "cell_type": "markdown",
   "id": "50c38f2b-3a2c-40c2-83e6-bf4c013d82b5",
   "metadata": {},
   "source": [
    "#### 2D Numpy Array."
   ]
  },
  {
   "cell_type": "code",
   "execution_count": null,
   "id": "8725008e-a13f-4e1b-bfef-b80bbe2c7174",
   "metadata": {},
   "outputs": [],
   "source": [
    "list3 = [[33,66,99],[30,60,90]] ##2D List\n",
    "list4 = [['ven', 'jenni', 'x'],['java', 'vespa', 'AI'],['health','time','money']]\n",
    "nparr3 = np.array(list3)\n",
    "nparr4 = np.array(list4)\n",
    "print(nparr3)\n",
    "print(nparr4)"
   ]
  },
  {
   "cell_type": "code",
   "execution_count": null,
   "id": "1dcfa478-a400-422d-a5a6-6c192cbb7a18",
   "metadata": {},
   "outputs": [],
   "source": [
    "type(nparr4)\n",
    "nparr4.shape"
   ]
  },
  {
   "cell_type": "markdown",
   "id": "d4260eb6-d5d3-4817-8464-72f298433c12",
   "metadata": {},
   "source": [
    "#### 3d Array\n",
    "    ---> Packing the multiple 2d arrays is 3d array."
   ]
  },
  {
   "cell_type": "code",
   "execution_count": null,
   "id": "a197f8fe-f761-4b44-b263-b85c05d46105",
   "metadata": {},
   "outputs": [],
   "source": [
    "list5 = [[[1,2,3], [4,5,6]],\n",
    "         [[9,0,8], [3,6,9]]]\n",
    "arr_3d = np.array(list5)\n",
    "print(arr_3d)"
   ]
  },
  {
   "cell_type": "code",
   "execution_count": null,
   "id": "63003ed5-3b9a-45b8-9411-b2fcf5bdfc21",
   "metadata": {},
   "outputs": [],
   "source": [
    "arr_3d.shape  # It gives the shape of the array."
   ]
  },
  {
   "cell_type": "code",
   "execution_count": null,
   "id": "cd16c4ce-68f3-4c55-b667-33d08a749aca",
   "metadata": {},
   "outputs": [],
   "source": [
    "type(arr_3d)  #This shows type of array."
   ]
  },
  {
   "cell_type": "code",
   "execution_count": null,
   "id": "85fb5026-5417-47f8-af43-e2e3479bf9b9",
   "metadata": {},
   "outputs": [],
   "source": [
    "arr2 = np.array([2,4,6,8,10], dtype= np.int64)\n",
    "print(arr2)"
   ]
  },
  {
   "cell_type": "markdown",
   "id": "120c9cc2-49be-4cbc-9acf-09973de1e79f",
   "metadata": {},
   "source": [
    "#### methods"
   ]
  },
  {
   "cell_type": "code",
   "execution_count": null,
   "id": "67c1fa23-81be-4283-b8e6-535d9e5d4ab9",
   "metadata": {},
   "outputs": [],
   "source": [
    "arr1 + arr2     ## ADDING TWO ARRAYS    ##if we want to do this in list we need to loop over this and perform a function on it, and it is slower and consumes more memory.   "
   ]
  },
  {
   "cell_type": "code",
   "execution_count": null,
   "id": "99a64cca-c60e-4c22-8144-5214cc712cd6",
   "metadata": {},
   "outputs": [],
   "source": [
    "arr1 * arr2   ## MULTIPLICATION"
   ]
  },
  {
   "cell_type": "code",
   "execution_count": null,
   "id": "213754c5-4685-430f-83ac-32c5d75d935b",
   "metadata": {},
   "outputs": [],
   "source": [
    "arr1 ** arr2  ## SQUARE"
   ]
  },
  {
   "cell_type": "markdown",
   "id": "084dc50b-e456-49cf-a940-05d6e92ad97d",
   "metadata": {},
   "source": [
    "#### Datatype of this arrays"
   ]
  },
  {
   "cell_type": "code",
   "execution_count": null,
   "id": "98243988-4320-40f4-8f0d-5316ad812064",
   "metadata": {},
   "outputs": [],
   "source": [
    "arr = np.array([1,2,3], dtype= float)\n",
    "arr1 = np.array([1,2,3], dtype= int)\n",
    "arr2 = np.array(['ven','diesel','ferrari'], dtype= object)\n",
    "\n",
    "print(arr)\n",
    "print(arr1)\n",
    "print(arr2)"
   ]
  },
  {
   "cell_type": "markdown",
   "id": "2569d015-5d2f-4540-8d08-0c33182dfd31",
   "metadata": {},
   "source": [
    "#### Speed of the numpy\n",
    "   ----> Time taken by the numpy to implement is less than the list."
   ]
  },
  {
   "cell_type": "code",
   "execution_count": null,
   "id": "b004cbe6-5c48-44bc-bcbc-2bf9f069d884",
   "metadata": {},
   "outputs": [],
   "source": [
    "import time\n",
    "arr = np.arange(1,1000000)\n",
    "start = time.time()\n",
    "arr.sum()\n",
    "end = time.time()\n",
    "print('time taken by numpt:',end-start)"
   ]
  },
  {
   "cell_type": "code",
   "execution_count": null,
   "id": "90955a5f-e1a5-4d73-9a18-b90d7e8dc15f",
   "metadata": {},
   "outputs": [],
   "source": [
    "lst = list(range(1,1000000))\n",
    "start = time.time()\n",
    "sum(lst)\n",
    "end = time.time()\n",
    "print('time taken by the list:',end-start)"
   ]
  },
  {
   "cell_type": "markdown",
   "id": "49cc380a-69c6-4819-a0b3-ebf52c70e79d",
   "metadata": {},
   "source": [
    "### Attributes"
   ]
  },
  {
   "cell_type": "code",
   "execution_count": null,
   "id": "e9d87b6f-1b71-461b-8580-0338bff30692",
   "metadata": {},
   "outputs": [],
   "source": [
    "arr_3 = [[[1,2,3], [4,5,6]],\n",
    "         [[9,0,8], [3,6,9]]]\n",
    "arr_3d = np.array(arr_3)\n",
    "print(arr_3d)\n"
   ]
  },
  {
   "cell_type": "code",
   "execution_count": null,
   "id": "3c51c7e2-7022-4820-9803-be8f52d45429",
   "metadata": {},
   "outputs": [],
   "source": [
    "arr_3d.shape # Gives the shape (depth,rows,columns)"
   ]
  },
  {
   "cell_type": "code",
   "execution_count": null,
   "id": "e82ceb8b-e3cd-477f-80f0-464e87435965",
   "metadata": {},
   "outputs": [],
   "source": [
    "type(arr_3d) ## gives array type"
   ]
  },
  {
   "cell_type": "code",
   "execution_count": null,
   "id": "53c1fa57-a5c1-4114-b941-7249976f0fd1",
   "metadata": {},
   "outputs": [],
   "source": [
    "arr_3d.size   ## Gives the total number of elements present in the array."
   ]
  },
  {
   "cell_type": "code",
   "execution_count": null,
   "id": "e7820788-9e4d-4669-bdec-96e6e74acd42",
   "metadata": {},
   "outputs": [],
   "source": [
    "arr_3d.dtype"
   ]
  },
  {
   "cell_type": "code",
   "execution_count": null,
   "id": "b6e63a17-b719-4557-ae0f-28b99d5c302e",
   "metadata": {},
   "outputs": [],
   "source": [
    "arr_3d.ndim #Gives the dimension of the array."
   ]
  },
  {
   "cell_type": "code",
   "execution_count": null,
   "id": "694c1bfa-385a-4d80-a45d-fb64ff203cd7",
   "metadata": {},
   "outputs": [],
   "source": [
    "arr_3d.nbytes ##Givs the memory/storage"
   ]
  },
  {
   "cell_type": "markdown",
   "id": "5ed38f63-ca9a-4938-975c-f9ae3b72b5ee",
   "metadata": {},
   "source": [
    "#### Vectorization"
   ]
  },
  {
   "cell_type": "code",
   "execution_count": null,
   "id": "36436525-0775-4d2d-bdde-6d9f376eaa3a",
   "metadata": {},
   "outputs": [],
   "source": [
    "l1 = [1,2,4]\n",
    "l2 = [3,6,9]\n",
    "l1 + l2"
   ]
  },
  {
   "cell_type": "code",
   "execution_count": null,
   "id": "9b9cb46a-fbb2-4688-a6cf-dce636017bce",
   "metadata": {},
   "outputs": [],
   "source": [
    "npl1 = np.array(l1)\n",
    "npl2 = np.array(l2)\n",
    "npl1 + npl2"
   ]
  },
  {
   "cell_type": "markdown",
   "id": "0412ca2b-ee3f-4a52-8e03-2882901d4593",
   "metadata": {},
   "source": [
    "### Reshape "
   ]
  },
  {
   "cell_type": "code",
   "execution_count": null,
   "id": "71783785-18bc-4b5f-991e-08d67741c03a",
   "metadata": {},
   "outputs": [],
   "source": [
    "lst = [1,2,3,4,5,6]\n",
    "nplst = np.array(lst)  #reshaping 1 row into 2 and 6 columns into 3.\n",
    "rlst=nplst.reshape(2,3)\n",
    "print(rlst)"
   ]
  },
  {
   "cell_type": "code",
   "execution_count": null,
   "id": "ed91a05c-7e6a-41c6-a8d1-086134251218",
   "metadata": {},
   "outputs": [],
   "source": [
    "lst1 = [2,3]\n",
    "nplst1 = np.array(lst1)\n",
    "rlst1 = nplst1.reshape(2,1)\n",
    "print(rlst1)"
   ]
  },
  {
   "cell_type": "code",
   "execution_count": null,
   "id": "de01efba-b48e-431a-829a-cff19e74fe1a",
   "metadata": {
    "jupyter": {
     "source_hidden": true
    }
   },
   "outputs": [],
   "source": [
    "rlst + rlst1"
   ]
  },
  {
   "cell_type": "code",
   "execution_count": null,
   "id": "82aaea3d-662e-432a-b9b7-c2ee6d26b15f",
   "metadata": {},
   "outputs": [],
   "source": [
    "arr1 = np.array([1,2,3,4,5,6,7,8,9,2,3,4])\n",
    "r = arr1.reshape(2,2,3)\n",
    "print(r)"
   ]
  },
  {
   "cell_type": "markdown",
   "id": "867bcbbc-9771-4ee4-9a9c-a52ec2c56dd1",
   "metadata": {},
   "source": [
    "##### ravel() & flatten()\n"
   ]
  },
  {
   "cell_type": "code",
   "execution_count": null,
   "id": "4a172d16-c28a-4496-9ac9-83b1600617d2",
   "metadata": {},
   "outputs": [],
   "source": [
    "r"
   ]
  },
  {
   "cell_type": "code",
   "execution_count": null,
   "id": "cdb6b9a6-30b9-4376-a630-1b86c3a927c2",
   "metadata": {},
   "outputs": [],
   "source": [
    "r.ravel()"
   ]
  },
  {
   "cell_type": "code",
   "execution_count": null,
   "id": "57c5b047-c975-4ab2-82b7-dc552de0b3ed",
   "metadata": {},
   "outputs": [],
   "source": [
    "r.flatten()"
   ]
  },
  {
   "cell_type": "markdown",
   "id": "5f6ec525-8e3f-47f2-b40f-9e2926432edf",
   "metadata": {},
   "source": [
    "##### vstack, hstack, and dstack"
   ]
  },
  {
   "cell_type": "code",
   "execution_count": null,
   "id": "9906539d-87e3-4d7c-b809-80ec03afec34",
   "metadata": {},
   "outputs": [],
   "source": [
    "a = np.array([3,6,9])\n",
    "b= np.array([1,1,1])\n",
    "np.vstack((a,b))"
   ]
  },
  {
   "cell_type": "code",
   "execution_count": null,
   "id": "6e51c4a4-87eb-4552-b0a1-a7eb0a92cfae",
   "metadata": {},
   "outputs": [],
   "source": [
    "np.hstack((a,b))"
   ]
  },
  {
   "cell_type": "code",
   "execution_count": null,
   "id": "93f42c26-bdb1-4ba2-85da-3e5cf3636dd6",
   "metadata": {},
   "outputs": [],
   "source": [
    "np.dstack((a,b))"
   ]
  },
  {
   "cell_type": "markdown",
   "id": "0bbf5924-2ebe-4dc7-842e-daa2adacea17",
   "metadata": {},
   "source": [
    "#### split()"
   ]
  },
  {
   "cell_type": "code",
   "execution_count": null,
   "id": "926162b5-c3a1-4dc7-9099-275964e061f9",
   "metadata": {
    "jupyter": {
     "source_hidden": true
    }
   },
   "outputs": [],
   "source": [
    "arr1\n"
   ]
  },
  {
   "cell_type": "code",
   "execution_count": null,
   "id": "bb3c39c0-e210-4fe5-84ea-b5bf296ccc2b",
   "metadata": {},
   "outputs": [],
   "source": [
    "r"
   ]
  },
  {
   "cell_type": "code",
   "execution_count": null,
   "id": "0f71e232-f29c-4614-b72e-73c3a2bd0d10",
   "metadata": {},
   "outputs": [],
   "source": [
    "np.split(r,2)\n",
    "np.split(arr1,3)"
   ]
  },
  {
   "cell_type": "code",
   "execution_count": null,
   "id": "59a0783b-759f-45e3-9f32-adb4bfd32334",
   "metadata": {},
   "outputs": [],
   "source": [
    "arr_2d"
   ]
  },
  {
   "cell_type": "code",
   "execution_count": null,
   "id": "0240a4ac-58f5-4a53-a79d-773d06aca824",
   "metadata": {},
   "outputs": [],
   "source": [
    "np.split(arr_2d,2,axis=0)"
   ]
  },
  {
   "cell_type": "code",
   "execution_count": null,
   "id": "2e04fc5c-85e4-40e0-ba2f-b18dcd51058a",
   "metadata": {},
   "outputs": [],
   "source": [
    "np.split(arr_2d,2,axis=1)"
   ]
  },
  {
   "cell_type": "markdown",
   "id": "662d7f1e-c961-4058-b5c0-087e3e38a029",
   "metadata": {},
   "source": [
    "#### Padding\n",
    "    ----> Adding missing values to the array"
   ]
  },
  {
   "cell_type": "code",
   "execution_count": null,
   "id": "b029705d-4ec4-4c06-b283-c344822ad810",
   "metadata": {},
   "outputs": [],
   "source": [
    "arr1 = np.array([2,3,4,5,6])\n",
    "arr2 = np.array([2,1]) ## We can also do this by reshaping the array into (2,1).\n",
    "arr2_padded = np.pad(arr2,(0,len(arr1)-len(arr2)), mode = 'constant')\n",
    "print(arr2_padded)\n"
   ]
  },
  {
   "cell_type": "code",
   "execution_count": null,
   "id": "00f3f40b-efbb-4eb3-84f7-1e17e8763e90",
   "metadata": {},
   "outputs": [],
   "source": [
    "arr1 + arr2_padded"
   ]
  },
  {
   "cell_type": "code",
   "execution_count": null,
   "id": "cd1be832-4761-481e-9892-0972f6b0412e",
   "metadata": {},
   "outputs": [],
   "source": [
    "t1 = np.array([10,20,30,40,50,60])\n",
    "t2 = np.array([20,30,60])\n",
    "t2_padded = np.pad(t2,(0,len(t1)-len(t2)),mode = 'constant',constant_values = 0)\n",
    "print(t2_padded)"
   ]
  },
  {
   "cell_type": "markdown",
   "id": "613964c5-3ee6-46c0-a2c8-c4fe9b9cb26d",
   "metadata": {},
   "source": [
    "#### Array Creation\n",
    "    ---> Creating an array using zero, one, and full."
   ]
  },
  {
   "cell_type": "code",
   "execution_count": null,
   "id": "a2ae94f4-a47d-433a-8ba5-b88b1e4ddbbc",
   "metadata": {},
   "outputs": [],
   "source": [
    "np.zeros(5, dtype = int) \n",
    "np.zeros(4)  ## by default it gives floats"
   ]
  },
  {
   "cell_type": "code",
   "execution_count": null,
   "id": "20283afa-5252-4f08-8782-86d2a3fd504a",
   "metadata": {},
   "outputs": [],
   "source": [
    "np.zeros((4,6), dtype = int)"
   ]
  },
  {
   "cell_type": "code",
   "execution_count": null,
   "id": "c0947c5a-d5a2-4dc1-b7c5-a3bb233a5702",
   "metadata": {},
   "outputs": [],
   "source": [
    "np.ones(10)\n",
    "np.ones(3, dtype = int)"
   ]
  },
  {
   "cell_type": "code",
   "execution_count": null,
   "id": "b683d54b-fa05-4e15-b595-9ac914536872",
   "metadata": {},
   "outputs": [],
   "source": [
    "np.ones((3,6),dtype = int)"
   ]
  },
  {
   "cell_type": "code",
   "execution_count": null,
   "id": "b8175f11-a8cc-4462-9d8a-6363f706013f",
   "metadata": {},
   "outputs": [],
   "source": [
    "import numpy as np\n",
    "np.full((10,3),4,dtype = float,order='c')  "
   ]
  },
  {
   "cell_type": "code",
   "execution_count": null,
   "id": "7b60591d-cbee-4e4a-82c4-846b201620ff",
   "metadata": {},
   "outputs": [],
   "source": [
    "np.full((3,3),33,dtype= int,order='c',like= None)"
   ]
  },
  {
   "cell_type": "markdown",
   "id": "007da4eb-536e-4510-8aa9-15db14d590e0",
   "metadata": {},
   "source": [
    "#### array generation using arange as numpy\n"
   ]
  },
  {
   "cell_type": "code",
   "execution_count": null,
   "id": "9212df68-906d-458f-ac55-f05663d54944",
   "metadata": {},
   "outputs": [],
   "source": [
    "np.arange(9)\n",
    "np.arange(10)"
   ]
  },
  {
   "cell_type": "code",
   "execution_count": null,
   "id": "d6e74adf-2032-41f5-825c-504f9e6f0140",
   "metadata": {},
   "outputs": [],
   "source": [
    "np.arange(0,10,3)   # np.arange(start,stop,step)  step is something that gives gap between the values."
   ]
  },
  {
   "cell_type": "markdown",
   "id": "2990406a-722d-43b1-8e40-f1d54654056b",
   "metadata": {},
   "source": [
    "#### linspace #genetaring array/points using nuumpy linespace"
   ]
  },
  {
   "cell_type": "code",
   "execution_count": null,
   "id": "a879bed8-6172-4a75-8d4c-14d89b5535af",
   "metadata": {},
   "outputs": [],
   "source": [
    " np.linspace(10,1,5)  # np.linspace(start,stop,num) num---> num is something that we can divide the number of points between the start and stop."
   ]
  },
  {
   "cell_type": "code",
   "execution_count": null,
   "id": "01927d37-22a6-4439-8689-086da9dce463",
   "metadata": {},
   "outputs": [],
   "source": [
    "np.linspace(0,1,10)"
   ]
  },
  {
   "cell_type": "markdown",
   "id": "5ac5b312-8b11-491b-aa6e-8e6bd012a159",
   "metadata": {},
   "source": [
    "#### Generating log space values"
   ]
  },
  {
   "cell_type": "code",
   "execution_count": null,
   "id": "aa3c324a-c4ef-46d9-8cc1-9ab190d617ae",
   "metadata": {},
   "outputs": [],
   "source": [
    "np.logspace(0,10,3) # np.logspace(start,stop,num)----num--> num is the number of points based on the log between the start and stop."
   ]
  },
  {
   "cell_type": "markdown",
   "id": "8fc1cc05-aa82-4ec0-bf03-cd92e4a77147",
   "metadata": {},
   "source": [
    "#### Creating Random array's"
   ]
  },
  {
   "cell_type": "markdown",
   "id": "99701d02-0ed3-4150-8b99-a99d36b8b522",
   "metadata": {},
   "source": [
    "##### randint-----> distributes the numbers based on the start and stop values based the given shape."
   ]
  },
  {
   "cell_type": "code",
   "execution_count": null,
   "id": "4b01d8c3-4ffe-45a3-82b8-69fba6cb7b88",
   "metadata": {
    "jupyter": {
     "source_hidden": true
    }
   },
   "outputs": [],
   "source": [
    "np.random.randint(1,3,(3,3)) ## np.random.randint(start(inclusive),stop(exclusive),shape(row,column))"
   ]
  },
  {
   "cell_type": "code",
   "execution_count": null,
   "id": "67873254-141d-44ea-8b25-4bcfc62cbbaa",
   "metadata": {},
   "outputs": [],
   "source": [
    "np.random.randint(2,4,2)  ## if one int given as a shape, then it provides the single array then ndarray."
   ]
  },
  {
   "cell_type": "markdown",
   "id": "a8aa641b-b0bb-4881-8973-e80fbbb7f2cb",
   "metadata": {},
   "source": [
    "##### rand-----> distrubes the numbbers randomly as a floats between 0 and 1 depends on the shape we provide."
   ]
  },
  {
   "cell_type": "code",
   "execution_count": null,
   "id": "59c8dc96-9fcc-4c8f-a65d-cd0369b98e8e",
   "metadata": {
    "jupyter": {
     "source_hidden": true
    }
   },
   "outputs": [],
   "source": [
    "np.random.rand(2)   ## np,random.rand(d1,d2,d3,......dn) where d shows the size or shape of the array."
   ]
  },
  {
   "cell_type": "code",
   "execution_count": null,
   "id": "734638a1-bcc9-414a-b555-62e66f979c54",
   "metadata": {},
   "outputs": [],
   "source": [
    "np.random.rand(3,3)\n"
   ]
  },
  {
   "cell_type": "markdown",
   "id": "67e5ca3f-2a5c-4b74-9e50-f5535576ec75",
   "metadata": {},
   "source": [
    "##### randn--normal distribution. it distributes the values between 0 to 1 only.  mean==0 std==1"
   ]
  },
  {
   "cell_type": "code",
   "execution_count": null,
   "id": "3af56014-a061-49ce-9838-787de64a2c7f",
   "metadata": {},
   "outputs": [],
   "source": [
    "np.random.randn(10,3)"
   ]
  },
  {
   "cell_type": "markdown",
   "id": "85e507e9-bcc3-4bd6-bf8e-25d437c42bfb",
   "metadata": {},
   "source": [
    "##### rand.choice----->creating an array based on our chosen values and size."
   ]
  },
  {
   "cell_type": "code",
   "execution_count": null,
   "id": "b80a1124-6890-4f58-824b-e6fe13184905",
   "metadata": {},
   "outputs": [],
   "source": [
    "np.random.choice([1,3,5,7,0,6], size=(3,3)) # we can create ndarray with the choices of our own values without any random values in a desired size."
   ]
  },
  {
   "cell_type": "markdown",
   "id": "c42baedc-587f-4741-894b-c004a33071de",
   "metadata": {},
   "source": [
    "##### random.seed---->To generate the same random numbers every time, use np.random.seed()."
   ]
  },
  {
   "cell_type": "code",
   "execution_count": null,
   "id": "426253d1-6059-433c-ba17-5d48f5e8d01e",
   "metadata": {},
   "outputs": [],
   "source": [
    "arr =np.random.seed(33)\n",
    "print(arr)"
   ]
  },
  {
   "cell_type": "markdown",
   "id": "feec3729-bb21-42df-81aa-6619ed5f4ae4",
   "metadata": {},
   "source": [
    "### Accessing, slicing and modifying an 1d,2d, and 3d Numpy arrays."
   ]
  },
  {
   "cell_type": "markdown",
   "id": "88296599-bfa5-496d-81ab-69b987ba12b9",
   "metadata": {},
   "source": [
    "#### 1D numpy array"
   ]
  },
  {
   "cell_type": "markdown",
   "id": "6dc9f15c-b4f1-4e66-ab3f-5f869b2b4077",
   "metadata": {},
   "source": [
    "##### 1. Accessing elements"
   ]
  },
  {
   "cell_type": "code",
   "execution_count": null,
   "id": "6b6a7f0e-eb52-47f7-9af9-2bfde126fc95",
   "metadata": {},
   "outputs": [],
   "source": [
    "import numpy as np\n",
    "arr_1d= np.array([3,6,9,33,66,99])"
   ]
  },
  {
   "cell_type": "code",
   "execution_count": null,
   "id": "5a41e263-4517-48c1-959e-868a3491d169",
   "metadata": {},
   "outputs": [],
   "source": [
    "arr_1d[0]  \n",
    "arr_1d[1]\n",
    "arr_1d[2]\n",
    "arr_1d[3]\n",
    "arr_1d[4]\n",
    "arr_1d[5]\n",
    "\n"
   ]
  },
  {
   "cell_type": "markdown",
   "id": "2abb82aa-359c-4678-aad1-e1be1c4f4f6f",
   "metadata": {},
   "source": [
    "##### 2. Slicing an array\n",
    "     syntax:- arr_1d[from_index(inclusive), to_index(exclusive)]"
   ]
  },
  {
   "cell_type": "code",
   "execution_count": null,
   "id": "5163c52b-79f6-434c-87f6-86d95cb3503b",
   "metadata": {},
   "outputs": [],
   "source": [
    "arr_1d[0:3]"
   ]
  },
  {
   "cell_type": "code",
   "execution_count": null,
   "id": "7dedb645-3102-4305-95e5-32a96ad5005d",
   "metadata": {},
   "outputs": [],
   "source": [
    "arr_1d[3:5]"
   ]
  },
  {
   "cell_type": "code",
   "execution_count": null,
   "id": "a505fd81-03ec-4126-ace7-c1eafe7bdabb",
   "metadata": {},
   "outputs": [],
   "source": [
    "arr_1d[3:]"
   ]
  },
  {
   "cell_type": "code",
   "execution_count": null,
   "id": "0e120d26-817c-45a9-b1dc-17ff5341c99f",
   "metadata": {},
   "outputs": [],
   "source": [
    "arr_1d[:3]"
   ]
  },
  {
   "cell_type": "code",
   "execution_count": null,
   "id": "1de39511-5767-490a-87c4-eda66ffe4c0c",
   "metadata": {},
   "outputs": [],
   "source": [
    "arr_1d[::-1] # [::-1(it indicates the step count)]"
   ]
  },
  {
   "cell_type": "code",
   "execution_count": null,
   "id": "40db545e-66fd-4c2b-a5ab-d514254fe432",
   "metadata": {},
   "outputs": [],
   "source": [
    "arr_1d[::2] #  indicates the step count"
   ]
  },
  {
   "cell_type": "markdown",
   "id": "1e243022-3873-42f5-9379-e541ddf52ad8",
   "metadata": {},
   "source": [
    "#### boolean indexing"
   ]
  },
  {
   "cell_type": "code",
   "execution_count": null,
   "id": "9780e9b9-bafa-4e31-bd08-e09851bab62b",
   "metadata": {},
   "outputs": [],
   "source": [
    "arr_1d"
   ]
  },
  {
   "cell_type": "code",
   "execution_count": null,
   "id": "de1b94b4-da24-41e2-be95-45788dcd2a10",
   "metadata": {},
   "outputs": [],
   "source": [
    "arr_1d<5"
   ]
  },
  {
   "cell_type": "code",
   "execution_count": null,
   "id": "f15c44dc-e8f7-479e-bbc4-bc17d3b9a745",
   "metadata": {
    "jupyter": {
     "source_hidden": true
    }
   },
   "outputs": [],
   "source": [
    "arr_1d[arr_1d<5]"
   ]
  },
  {
   "cell_type": "code",
   "execution_count": null,
   "id": "78b52241-4597-459a-aa9d-8588a2e9dbb7",
   "metadata": {},
   "outputs": [],
   "source": [
    "arr_1d[arr_1d%2 == 0]"
   ]
  },
  {
   "cell_type": "code",
   "execution_count": null,
   "id": "e9c10c93-e62a-45ad-a8a5-045ed7b9340a",
   "metadata": {},
   "outputs": [],
   "source": [
    "arr_1d[arr_1d == 6]"
   ]
  },
  {
   "cell_type": "code",
   "execution_count": null,
   "id": "6f3d2531-840c-485e-8912-ecf48f6b5b6b",
   "metadata": {},
   "outputs": [],
   "source": []
  },
  {
   "cell_type": "code",
   "execution_count": null,
   "id": "d6b24cf6-99b3-4b3d-8791-cd9fdb30e820",
   "metadata": {},
   "outputs": [],
   "source": []
  },
  {
   "cell_type": "code",
   "execution_count": null,
   "id": "9be84fef-5665-44e7-aa55-eed024e255b0",
   "metadata": {},
   "outputs": [],
   "source": []
  },
  {
   "cell_type": "code",
   "execution_count": null,
   "id": "d022689a-52c2-4c20-b4fe-2feb1d0765c7",
   "metadata": {},
   "outputs": [],
   "source": []
  },
  {
   "cell_type": "markdown",
   "id": "33506f3b-e728-42df-929b-6085dfd9e843",
   "metadata": {},
   "source": [
    "#### 2d numpy array"
   ]
  },
  {
   "cell_type": "markdown",
   "id": "0ba7be07-7bbe-49ca-a5cc-f3bdf20f568d",
   "metadata": {},
   "source": [
    "##### 1.Accessing elements\n",
    "      syntax:-  arr_2d[row index,column index]"
   ]
  },
  {
   "cell_type": "code",
   "execution_count": null,
   "id": "3f7c87e3-18bb-49af-954e-5bcf5f861af3",
   "metadata": {},
   "outputs": [],
   "source": [
    "arr_2d = np.array([[3,6,9],\n",
    "          [33,66,99]])"
   ]
  },
  {
   "cell_type": "code",
   "execution_count": null,
   "id": "8cf80d41-f9f6-48d7-a571-d72241ea091d",
   "metadata": {},
   "outputs": [],
   "source": [
    "arr_2d[0]"
   ]
  },
  {
   "cell_type": "code",
   "execution_count": null,
   "id": "7bb832b7-b691-4152-ae4d-e0c524bef9f5",
   "metadata": {},
   "outputs": [],
   "source": [
    "arr_2d[1]"
   ]
  },
  {
   "cell_type": "code",
   "execution_count": null,
   "id": "d280328d-6de3-47ea-86d3-8141abc881c4",
   "metadata": {},
   "outputs": [],
   "source": [
    "arr_2d[0, 1]"
   ]
  },
  {
   "cell_type": "code",
   "execution_count": null,
   "id": "c715ae2e-5333-4751-8172-d968f9f2294e",
   "metadata": {},
   "outputs": [],
   "source": [
    "arr_2d[1,2]"
   ]
  },
  {
   "cell_type": "markdown",
   "id": "943a71ae-a8dd-4454-a0bc-6d82b47222f9",
   "metadata": {},
   "source": [
    "##### 2. Slicing an array"
   ]
  },
  {
   "cell_type": "code",
   "execution_count": null,
   "id": "5daf55c2-9f71-45c9-8f90-da923531acb6",
   "metadata": {},
   "outputs": [],
   "source": [
    "arr_2d"
   ]
  },
  {
   "cell_type": "code",
   "execution_count": null,
   "id": "e5f71ffd-2fc4-425b-8150-415fc4384e11",
   "metadata": {},
   "outputs": [],
   "source": [
    "arr_2d[0:1, 1:2]"
   ]
  },
  {
   "cell_type": "code",
   "execution_count": null,
   "id": "f6de7992-ebd8-4d18-acea-712c0fe1d24d",
   "metadata": {},
   "outputs": [],
   "source": [
    "arr_2d[0:2,1:3]"
   ]
  },
  {
   "cell_type": "code",
   "execution_count": null,
   "id": "6ddeed40-d32c-4cfb-af94-3b0de8e4b846",
   "metadata": {},
   "outputs": [],
   "source": [
    "arr_2d[:1:3]"
   ]
  },
  {
   "cell_type": "code",
   "execution_count": null,
   "id": "b66b0153-3514-40e3-b4b7-ef1bd9cb065d",
   "metadata": {},
   "outputs": [],
   "source": [
    "arr_2d[0:3,]"
   ]
  },
  {
   "cell_type": "markdown",
   "id": "d9582b08-749f-4798-bf1d-1732f9a25b7e",
   "metadata": {},
   "source": [
    "##### 3.Boolean indexing"
   ]
  },
  {
   "cell_type": "code",
   "execution_count": null,
   "id": "3c11445e-1c35-4472-897f-43e08a1ac217",
   "metadata": {},
   "outputs": [],
   "source": [
    "arr_2d[arr_2d>3]"
   ]
  },
  {
   "cell_type": "code",
   "execution_count": null,
   "id": "7697032b-1d7b-4b13-814c-10ca3d50878e",
   "metadata": {},
   "outputs": [],
   "source": [
    "arr_2d>6"
   ]
  },
  {
   "cell_type": "code",
   "execution_count": null,
   "id": "2d56af7c-2ec6-479d-960c-19dff60547e3",
   "metadata": {},
   "outputs": [],
   "source": [
    "arr_2d[arr_2d%2==0]"
   ]
  },
  {
   "cell_type": "code",
   "execution_count": null,
   "id": "d602ce35-2f44-467f-a535-50675317c752",
   "metadata": {},
   "outputs": [],
   "source": []
  },
  {
   "cell_type": "markdown",
   "id": "9ae37fee-bdce-4c63-8c46-8cd6a28b8dbc",
   "metadata": {},
   "source": [
    "#### 3d numpy array"
   ]
  },
  {
   "cell_type": "code",
   "execution_count": null,
   "id": "7f128c81-d0e5-4e38-97e1-7d8c089c4aab",
   "metadata": {},
   "outputs": [],
   "source": [
    "arr_3d = np.array([[[3,6,9],\n",
    "                    [33,66,99]],\n",
    "                   [[63,96,39],\n",
    "                    [36,39,69]]])\n",
    "print(arr_3d)"
   ]
  },
  {
   "cell_type": "markdown",
   "id": "6579cf37-e10f-4840-9a42-76349ca849bc",
   "metadata": {},
   "source": [
    "##### - Accessing elements\n",
    "       --> Syntax:-- arr_3d(depth,row,column)\n",
    "                     - depth :- depth is the number of 2d arrays present in the array, for 3d array it is two.\n",
    "                     - row :- row is the row of the array\n",
    "                     - column :- column is the column of the array."
   ]
  },
  {
   "cell_type": "code",
   "execution_count": null,
   "id": "5beafba0-8b6e-4ff5-8edb-ac730fa98ceb",
   "metadata": {
    "jupyter": {
     "source_hidden": true
    }
   },
   "outputs": [],
   "source": [
    "arr_3d[0,0,0]"
   ]
  },
  {
   "cell_type": "code",
   "execution_count": null,
   "id": "25d2ef8b-25af-48fb-8704-d104ed59b7f1",
   "metadata": {},
   "outputs": [],
   "source": [
    "arr_3d[0,0,1]"
   ]
  },
  {
   "cell_type": "code",
   "execution_count": null,
   "id": "262da64d-9d7b-456d-a084-7d4908966b3b",
   "metadata": {},
   "outputs": [],
   "source": [
    "arr_3d[1,1,2]"
   ]
  },
  {
   "cell_type": "markdown",
   "id": "66d5b950-35ba-4929-b45b-1276adbcd91d",
   "metadata": {},
   "source": [
    "##### 2. Slicing an array\n",
    "        sytax:- arr_3d[start(inclusive),end(exclusive),step(by default 1 and -1(for reverse order))]\n",
    "               - start indicates the layer of the array, it starts from 0.\n",
    "               - end is also a layer but exclusive/ or we can treat it as a row.\n",
    "               - step is by default 0 and 1"
   ]
  },
  {
   "cell_type": "code",
   "execution_count": null,
   "id": "74889da0-f5e2-4019-a083-5a5c1daa68f0",
   "metadata": {},
   "outputs": [],
   "source": [
    "arr_3d"
   ]
  },
  {
   "cell_type": "code",
   "execution_count": null,
   "id": "2b0f3b59-ccc2-4e33-a924-b7d973433d06",
   "metadata": {},
   "outputs": [],
   "source": [
    "arr_3d[1:2:]"
   ]
  },
  {
   "cell_type": "code",
   "execution_count": null,
   "id": "495eb824-da74-4e86-9584-d95d9d3c0c54",
   "metadata": {},
   "outputs": [],
   "source": [
    "arr_3d[:2:]"
   ]
  },
  {
   "cell_type": "markdown",
   "id": "06ee1203-5e26-4f53-9d4f-ccf93c17d845",
   "metadata": {},
   "source": [
    "##### Boolean of an array"
   ]
  },
  {
   "cell_type": "code",
   "execution_count": null,
   "id": "d4ece60c-a729-4f6e-bb3d-9249aebf8495",
   "metadata": {},
   "outputs": [],
   "source": [
    "arr_3d[arr_3d>3]"
   ]
  },
  {
   "cell_type": "code",
   "execution_count": null,
   "id": "8cd0b81b-ce40-4d2a-9ff6-3f15c72cb82a",
   "metadata": {},
   "outputs": [],
   "source": [
    "arr_3d>3"
   ]
  },
  {
   "cell_type": "markdown",
   "id": "0e47a67e-e097-4df6-b7f8-f80067e54a6d",
   "metadata": {},
   "source": [
    "### Fancy indexing"
   ]
  },
  {
   "cell_type": "code",
   "execution_count": null,
   "id": "5ec4a0a1-ef1e-4c5d-95d6-489f95c54188",
   "metadata": {},
   "outputs": [],
   "source": [
    "arr_1d"
   ]
  },
  {
   "cell_type": "code",
   "execution_count": null,
   "id": "420743b5-bb6b-4c03-827c-96e68ab3b5e4",
   "metadata": {},
   "outputs": [],
   "source": [
    "indices = [2,3,4]\n",
    "arr_1d[indices]"
   ]
  },
  {
   "cell_type": "code",
   "execution_count": null,
   "id": "eaf8c9e6-a250-4174-8224-bbf58cfbd7c8",
   "metadata": {},
   "outputs": [],
   "source": [
    "fancy_index = [0,4,5]\n",
    "arr_1d[fancy_index]"
   ]
  },
  {
   "cell_type": "markdown",
   "id": "a295e67a-cc45-4ddd-9f89-016ddbadc8c4",
   "metadata": {},
   "source": [
    "### Broadcasting\n",
    " - Broadcasting is a powerful feature in NumPy that allows operations (addition, subtraction, multiplication, etc.) between arrays of different shapes without explicitly reshaping them.\n",
    " - Broadcasting allows operations between arrays of different shapes by automatically expanding the smaller array.\n",
    " - Vectorization means replacing explicit loops with fast NumPy operations. Performs only on same shape arrays."
   ]
  },
  {
   "cell_type": "code",
   "execution_count": null,
   "id": "e1877665-ea70-4108-8cf4-21a6d80ff5cc",
   "metadata": {},
   "outputs": [],
   "source": [
    "arr_1d"
   ]
  },
  {
   "cell_type": "code",
   "execution_count": null,
   "id": "1dc74e8d-c4e5-4ccb-9591-101aee3b8df3",
   "metadata": {},
   "outputs": [],
   "source": [
    "arr = np.array([1,1,1,1,1,1])"
   ]
  },
  {
   "cell_type": "code",
   "execution_count": null,
   "id": "e0bcdbd2-644a-494e-8247-f260c648e030",
   "metadata": {},
   "outputs": [],
   "source": [
    "arr_1d + arr     ## This is vectorized operation, because of having the same sized arrays."
   ]
  },
  {
   "cell_type": "code",
   "execution_count": null,
   "id": "7625763f-7884-477d-9ccd-d79aaac554e8",
   "metadata": {},
   "outputs": [],
   "source": [
    "arr_1d"
   ]
  },
  {
   "cell_type": "code",
   "execution_count": null,
   "id": "762dccc4-db1e-4d53-9be8-039bf6d51c05",
   "metadata": {},
   "outputs": [],
   "source": [
    "arr_2d"
   ]
  },
  {
   "cell_type": "code",
   "execution_count": null,
   "id": "b6fdb389-aa4b-46f1-8b1a-fd1ce0cdfc9c",
   "metadata": {},
   "outputs": [],
   "source": [
    "array_2d = np.array([1,1,1])\n",
    "arr_2d + array_2d"
   ]
  },
  {
   "cell_type": "markdown",
   "id": "9cdc2431-5bbf-4556-8c40-266f5a8a3ea6",
   "metadata": {},
   "source": [
    "##### np.sum()\n",
    "##### np.std()\n",
    "##### np.min()\n",
    "##### np.max()\n",
    "##### np.mean()\n",
    "##### np.exp()\n",
    "##### np.sqrt()"
   ]
  },
  {
   "cell_type": "code",
   "execution_count": null,
   "id": "92a2057a-2f75-4abb-874b-9c2fb0ac11a2",
   "metadata": {},
   "outputs": [],
   "source": [
    "# SUM\n",
    "arr = np.array([1, 2, 3, 4, 5])\n",
    "print(np.sum(arr)) \n",
    "arr_2d = np.array([[1, 2], [3, 4]])\n",
    "print(np.sum(arr_2d, axis=0))  # Output: [4 6]  (column-wise sum)\n",
    "print(np.sum(arr_2d, axis=1))  # Output: [3 7]  (row-wise sum)"
   ]
  },
  {
   "cell_type": "code",
   "execution_count": null,
   "id": "ddc0d9ce-29b9-469e-8b72-03daaba1a7c3",
   "metadata": {},
   "outputs": [],
   "source": [
    "# STD\n",
    "arr = np.array([1, 2, 3, 4, 5])   \n",
    "print(np.std(arr))"
   ]
  },
  {
   "cell_type": "code",
   "execution_count": null,
   "id": "20784466-7301-44e5-9e54-202fbb61a3df",
   "metadata": {},
   "outputs": [],
   "source": [
    "#MIN AND MAX\n",
    "arr = np.array([10, 5, 20, 8])\n",
    "print(np.min(arr)) \n",
    "arr_2d = np.array([[1, 2, 3], [4, 5, 6]])\n",
    "print(np.min(arr_2d, axis=0))  # Output: [1 2 3]  (column-wise min)\n",
    "print(np.min(arr_2d, axis=1))  # Output: [1 4]  (row-wise min)\n",
    "\n",
    "arr = np.array([10, 5, 20, 8])\n",
    "print(np.max(arr))  \n",
    "arr_2d = np.array([[1, 2, 3], [4, 5, 6]])\n",
    "print(np.max(arr_2d, axis=0))  # Output: [4 5 6]  (column-wise max)\n",
    "print(np.max(arr_2d, axis=1))  # Output: [3 6]  (row-wise max)"
   ]
  },
  {
   "cell_type": "code",
   "execution_count": null,
   "id": "78edf51c-6bca-43c8-9f18-22c1d6072313",
   "metadata": {},
   "outputs": [],
   "source": [
    "# MEAN\n",
    "arr = np.array([10, 20, 30, 40, 50])\n",
    "print(np.mean(arr))\n",
    "arr_2d = np.array([[1, 2], [3, 4]])\n",
    "print(np.mean(arr_2d, axis=0))  # Output: [2. 3.]  (column-wise mean)\n",
    "print(np.mean(arr_2d, axis=1))  # Output: [1.5 3.5]  (row-wise mean)\n"
   ]
  },
  {
   "cell_type": "code",
   "execution_count": null,
   "id": "d1ba3f49-2dc1-40c9-a2b3-c4edb011e55c",
   "metadata": {},
   "outputs": [],
   "source": [
    "#EXPONENTIAL\n",
    "arr = np.array([1, 2, 3])\n",
    "print(np.exp(arr)) "
   ]
  },
  {
   "cell_type": "code",
   "execution_count": null,
   "id": "3d6fb50b-172d-4efb-acb5-7d5437867d93",
   "metadata": {},
   "outputs": [],
   "source": [
    "#SQUARE ROOT\n",
    "arr = np.array([4, 9, 16, 25])\n",
    "print(np.sqrt(arr)) "
   ]
  },
  {
   "cell_type": "markdown",
   "id": "f1acd335-3024-46bd-88b7-de8dedce8d59",
   "metadata": {},
   "source": [
    "### Liner algebra"
   ]
  },
  {
   "cell_type": "code",
   "execution_count": null,
   "id": "909a3fc5-9db4-4fd0-aef5-23a7d09273de",
   "metadata": {},
   "outputs": [],
   "source": [
    "a = np.array([[2,3],[4,6]])\n",
    "v = np.array([[3,2],[6,4]])"
   ]
  },
  {
   "cell_type": "code",
   "execution_count": null,
   "id": "3c2191bc-9069-44c2-9c99-1d74c9feeba0",
   "metadata": {},
   "outputs": [],
   "source": [
    "np.dot(a,v)"
   ]
  },
  {
   "cell_type": "code",
   "execution_count": null,
   "id": "b2f7d52f-9fd6-4bfb-ad86-c384aa5fc15d",
   "metadata": {},
   "outputs": [],
   "source": [
    "a @ v"
   ]
  },
  {
   "cell_type": "code",
   "execution_count": null,
   "id": "3bc48d7b-a644-4850-b7ae-c41ab012d9bf",
   "metadata": {},
   "outputs": [],
   "source": []
  }
 ],
 "metadata": {
  "kernelspec": {
   "display_name": "Python 3 (ipykernel)",
   "language": "python",
   "name": "python3"
  },
  "language_info": {
   "codemirror_mode": {
    "name": "ipython",
    "version": 3
   },
   "file_extension": ".py",
   "mimetype": "text/x-python",
   "name": "python",
   "nbconvert_exporter": "python",
   "pygments_lexer": "ipython3",
   "version": "3.12.7"
  }
 },
 "nbformat": 4,
 "nbformat_minor": 5
}
